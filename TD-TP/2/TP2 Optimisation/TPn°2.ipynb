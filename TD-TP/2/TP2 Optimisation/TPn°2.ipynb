{
 "cells": [
  {
   "cell_type": "markdown",
   "metadata": {},
   "source": [
    "# MU4MEN01 - Introduction à l'optimisation\n",
    "\n",
    "# TD/TP n° 2 \n",
    "\n",
    "### Objectifs \n",
    "Mettre en oeuvre et comparer deux **algorithmes de minimisation d’une fonction d’une variable**"
   ]
  },
  {
   "cell_type": "code",
   "execution_count": 1,
   "metadata": {},
   "outputs": [],
   "source": [
    "def f1(x) :\n",
    "    return (x+1)**2 + 7*np.sin(x)"
   ]
  },
  {
   "cell_type": "code",
   "execution_count": 2,
   "metadata": {},
   "outputs": [],
   "source": [
    "from Fonctions.Dichotomie import minimumDichotomie\n",
    "from Fonctions.Newton import minimumNewton"
   ]
  },
  {
   "cell_type": "markdown",
   "metadata": {},
   "source": [
    "## Recherche du minimum d’une fonction par la méthode de dichtomie"
   ]
  },
  {
   "cell_type": "markdown",
   "metadata": {},
   "source": [
    "Cas d'une fonction unimodale "
   ]
  },
  {
   "cell_type": "code",
   "execution_count": 1,
   "metadata": {},
   "outputs": [
    {
     "ename": "NameError",
     "evalue": "name 'minimumDichotomie' is not defined",
     "output_type": "error",
     "traceback": [
      "\u001b[1;31m---------------------------------------------------------------------------\u001b[0m",
      "\u001b[1;31mNameError\u001b[0m                                 Traceback (most recent call last)",
      "\u001b[1;32m~\\AppData\\Local\\Temp/ipykernel_10104/3215712093.py\u001b[0m in \u001b[0;36m<module>\u001b[1;34m\u001b[0m\n\u001b[0;32m      6\u001b[0m \u001b[0mprecision\u001b[0m \u001b[1;33m=\u001b[0m \u001b[1;36m1e-1\u001b[0m\u001b[1;33m\u001b[0m\u001b[1;33m\u001b[0m\u001b[0m\n\u001b[0;32m      7\u001b[0m \u001b[1;33m\u001b[0m\u001b[0m\n\u001b[1;32m----> 8\u001b[1;33m \u001b[0mbornes_min\u001b[0m\u001b[1;33m,\u001b[0m \u001b[0mbornes_max\u001b[0m\u001b[1;33m,\u001b[0m \u001b[0mn_iter\u001b[0m\u001b[1;33m,\u001b[0m \u001b[0mier\u001b[0m \u001b[1;33m=\u001b[0m \u001b[0mminimumDichotomie\u001b[0m\u001b[1;33m(\u001b[0m\u001b[0mf1\u001b[0m\u001b[1;33m,\u001b[0m\u001b[0mx_min\u001b[0m\u001b[1;33m,\u001b[0m\u001b[0mx_max\u001b[0m\u001b[1;33m,\u001b[0m\u001b[0mprecision\u001b[0m\u001b[1;33m)\u001b[0m\u001b[1;33m\u001b[0m\u001b[1;33m\u001b[0m\u001b[0m\n\u001b[0m\u001b[0;32m      9\u001b[0m \u001b[1;33m\u001b[0m\u001b[0m\n\u001b[0;32m     10\u001b[0m \u001b[0mx_min\u001b[0m\u001b[1;33m,\u001b[0m \u001b[0my_min\u001b[0m \u001b[1;33m=\u001b[0m \u001b[0mbornes_min\u001b[0m\u001b[1;33m[\u001b[0m\u001b[1;36m0\u001b[0m\u001b[1;33m]\u001b[0m\u001b[1;33m[\u001b[0m\u001b[1;33m-\u001b[0m\u001b[1;36m1\u001b[0m\u001b[1;33m]\u001b[0m\u001b[1;33m,\u001b[0m \u001b[0mbornes_min\u001b[0m\u001b[1;33m[\u001b[0m\u001b[1;36m1\u001b[0m\u001b[1;33m]\u001b[0m\u001b[1;33m[\u001b[0m\u001b[1;33m-\u001b[0m\u001b[1;36m1\u001b[0m\u001b[1;33m]\u001b[0m\u001b[1;33m\u001b[0m\u001b[1;33m\u001b[0m\u001b[0m\n",
      "\u001b[1;31mNameError\u001b[0m: name 'minimumDichotomie' is not defined"
     ]
    }
   ],
   "source": [
    "import numpy as np \n",
    "import matplotlib.pyplot as plt\n",
    "\n",
    "x_min = -4\n",
    "x_max = +4\n",
    "precision = 1e-1\n",
    "\n",
    "bornes_min, bornes_max, n_iter, ier = minimumDichotomie(f1,x_min,x_max,precision)\n",
    "        \n",
    "x_min, y_min = bornes_min[0][-1], bornes_min[1][-1]\n",
    "x_max, y_max = bornes_max[0][-1], bornes_max[1][-1]\n",
    "\n",
    "# Visualisation des résultats\n",
    "plt.plot(bornes_min[0],bornes_min[1],'rs', label = 'x_min')\n",
    "plt.plot(bornes_max[0],bornes_max[1],'bs', label = 'x_max')\n",
    "plt.legend()\n",
    "plt.xlabel('Valeurs de $x$')\n",
    "plt.ylabel('Valeurs de $f_1(x)$')\n",
    "plt.title('Recherche du minimum de $f_1$ par dichotomie')\n",
    "plt.grid()\n",
    "\n",
    "message = 'Precision = {}'.format(precision)\n",
    "message += '\\nCV en {} iterations'.format(n_iter)\n",
    "message += '\\nBorne inférieure :'\n",
    "message += '\\n  x_min = {:6.4f}'.format(x_min)\n",
    "message += '\\n  y_min = {:6.4f}'.format(y_min)\n",
    "message += '\\nBorne supérieure :'\n",
    "message += '\\n  x_max = {:6.4f}'.format(x_max)\n",
    "message += '\\n  y_max = {:6.4f}'.format(y_max)\n",
    "plt.text(1,-5,message)\n"
   ]
  },
  {
   "cell_type": "markdown",
   "metadata": {},
   "source": [
    "#### Le resultat obtenu est correct , il y'a bien convergence de l'algorithme pour une fonction unimodale "
   ]
  },
  {
   "cell_type": "markdown",
   "metadata": {},
   "source": [
    "Cas d'une fonction non Unimodale "
   ]
  },
  {
   "cell_type": "code",
   "execution_count": 4,
   "metadata": {},
   "outputs": [],
   "source": [
    "def f_non_uni(x) : \n",
    "   return (x+1)**2 + 10*np.sin(x)"
   ]
  },
  {
   "cell_type": "code",
   "execution_count": null,
   "metadata": {},
   "outputs": [],
   "source": [
    "f_non_uni\n",
    "\n",
    "import numpy as np \n",
    "import matplotlib.pyplot as plt\n",
    "\n",
    "x_min = -4\n",
    "x_max = +4\n",
    "precision = 1e-1\n",
    "\n",
    "bornes_min, bornes_max, n_iter, ier = minimumDichotomie(f_non_uni,x_min,x_max,precision)\n",
    "        \n",
    "x_min, y_min = bornes_min[0][-1], bornes_min[1][-1]\n",
    "x_max, y_max = bornes_max[0][-1], bornes_max[1][-1]\n",
    "\n",
    "# Visualisation des résultats\n",
    "plt.plot(bornes_min[0],bornes_min[1],'rs', label = 'x_min')\n",
    "plt.plot(bornes_max[0],bornes_max[1],'bs', label = 'x_max')\n",
    "plt.legend()\n",
    "plt.xlabel('Valeurs de $x$')\n",
    "plt.ylabel('Valeurs de $f_1(x)$')\n",
    "plt.title('Recherche du minimum de $f_1$ par dichotomie')\n",
    "plt.grid()\n",
    "\n",
    "message = 'Precision = {}'.format(precision)\n",
    "message += '\\nCV en {} iterations'.format(n_iter)\n",
    "message += '\\nBorne inférieure :'\n",
    "message += '\\n  x_min = {:6.4f}'.format(x_min)\n",
    "message += '\\n  y_min = {:6.4f}'.format(y_min)\n",
    "message += '\\nBorne supérieure :'\n",
    "message += '\\n  x_max = {:6.4f}'.format(x_max)\n",
    "message += '\\n  y_max = {:6.4f}'.format(y_max)\n",
    "plt.text(1,-5,message)\n"
   ]
  },
  {
   "cell_type": "markdown",
   "metadata": {},
   "source": [
    "#### Divergence de l'algorithme , cette méthode n'est faite que pour des fonctions unimodales dans un intervalle fermé de R"
   ]
  },
  {
   "cell_type": "markdown",
   "metadata": {},
   "source": [
    "## Recherche du minimum d’une fonction par la méthode de Newton"
   ]
  },
  {
   "cell_type": "code",
   "execution_count": 6,
   "metadata": {},
   "outputs": [],
   "source": [
    "# Parametres \n",
    "\n",
    "precision = 1e-1\n",
    "\n",
    "def f(x) :\n",
    "    return (x+1)**2 + 7*np.sin(x)\n",
    "\n",
    "def df(x) : \n",
    "  df = 2*(x+1) + 7*np.cos(x) \n",
    "  return df \n",
    "\n",
    "def d2f(x) : \n",
    "  d2f = 2 - 7*np.sin(x)\n",
    "  return d2f "
   ]
  },
  {
   "cell_type": "code",
   "execution_count": null,
   "metadata": {},
   "outputs": [],
   "source": [
    "# Tracé \n",
    "x = np.linspace(-4,4,1000)\n",
    "f =  (x+1)**2 + 7*np.sin(x)\n",
    "plt.plot(x,f,'darkred') \n",
    "plt.grid() \n",
    "\n",
    "# Minimulm situé entre -1 et -2 "
   ]
  },
  {
   "cell_type": "code",
   "execution_count": null,
   "metadata": {},
   "outputs": [],
   "source": [
    "print(minimumNewton(f,df,d2f,2,1e-1,1000))\n",
    "\n",
    "# Il faut faire attention à bien choisir le point de départ , ici égal à 2"
   ]
  },
  {
   "cell_type": "markdown",
   "metadata": {},
   "source": [
    "### La dichotomie donne un intervalle , alors que la methode de newton par approximation avec le developpement de Taylor à l'ordre 2 nous donne une valeure quasi exacte du minimum de la fonction "
   ]
  }
 ],
 "metadata": {
  "interpreter": {
   "hash": "6aa1a8b2ed28e89771df5352948886da4de96dc4e60e47b144f18524ed7d54c2"
  },
  "kernelspec": {
   "display_name": "Python 3.8.8 64-bit ('base': conda)",
   "name": "python3"
  },
  "language_info": {
   "codemirror_mode": {
    "name": "ipython",
    "version": 3
   },
   "file_extension": ".py",
   "mimetype": "text/x-python",
   "name": "python",
   "nbconvert_exporter": "python",
   "pygments_lexer": "ipython3",
   "version": "3.9.9"
  }
 },
 "nbformat": 4,
 "nbformat_minor": 2
}
