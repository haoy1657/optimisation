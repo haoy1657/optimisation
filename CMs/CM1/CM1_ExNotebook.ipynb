{
 "cells": [
  {
   "cell_type": "markdown",
   "metadata": {},
   "source": [
    "## Exemple de Notebook :\n",
    "\n",
    "### Enoncé : \n",
    "\n",
    "Ecrire une fonction qui calcule et affiche les racines réelles (si elles existent) d'un polynôme de degré 2.\n"
   ]
  },
  {
   "cell_type": "markdown",
   "metadata": {},
   "source": [
    "### Solution :\n",
    "\n",
    "**Principe :**\n",
    "\n",
    "Soit $P$ le polynôme de degré 2 défini par : $P(x) = ax^2 + bx + c$. \n",
    "\n",
    "Pour calculer les racines de $P$, il faut calculer le discriminant $\\Delta$, défini par $\\Delta = b^2 - 4ac$. Si $\\Delta$ est strictement positif, il existe deux racines réelles distinctes : $x_1 = \\frac{-b - \\sqrt{\\Delta}}{2a}$ et $x_2 = \\frac{-b + \\sqrt{\\Delta}}{2a}$. Si $\\Delta$ est nul, les deux racines sont confondues : $x_1 = x_2 =\\frac{-b}{2a}$. Si $\\Delta$ est strictement négatif, il n'existe pas de racine _réelle_.\n",
    "\n",
    "**Code de la fonction *racine_P2* :**"
   ]
  },
  {
   "cell_type": "code",
   "execution_count": 1,
   "metadata": {},
   "outputs": [],
   "source": [
    "import math\n",
    "\n",
    "def racine_P2(a,b,c) :\n",
    "    \"\"\" Calcul et affichage des racines d'un polynome de degré 2\n",
    "    @param a coefficient du terme de degré 2\n",
    "    @param b coefficient du terme de degré 1\n",
    "    @param c coefficient du terme de degré 0\n",
    "    @author Florence Ossart\n",
    "    @version 1.0\n",
    "    \"\"\"    \n",
    "    # Entree : a, b, c coefficients du polynome\n",
    "    # Sortie : aucune\n",
    "    print('Racines réelles du polynome {}x^2 + {}x + {} : '.format(a,b,c))\n",
    "    delta = b**2 - 4*a*c\n",
    "    if delta > 0 :\n",
    "        x1 = (-b-math.sqrt(delta))/2/a\n",
    "        x2 = (-b+math.sqrt(delta))/2/a\n",
    "        print('Il existe 2 racines : x1 = {} et x2 = {}'.format(x1,x2))\n",
    "    elif delta == 0 :\n",
    "        x1 = -b/2/a\n",
    "        print('Il existe 1 racine double : x1 = x2 = {}'.format(x1))\n",
    "    else :\n",
    "        print('Il n\\'existe aucune racine')\n",
    "        "
   ]
  },
  {
   "cell_type": "markdown",
   "metadata": {},
   "source": [
    "**Test de la fonction *racine_P2* :**\n",
    "\n",
    "- 1er cas : 2 racines distinctes, $P(x) = (x - 1)(x - 2) = x^2 - 3x + 2$\n",
    "- 2ème cas : 1 racine double, $P(x) = (x - 1)^2 = x^2 - 2x + 1$\n",
    "- 3ème cas : pas de racine, $P(x) = x^2 - x + 2$"
   ]
  },
  {
   "cell_type": "code",
   "execution_count": 2,
   "metadata": {},
   "outputs": [
    {
     "name": "stdout",
     "output_type": "stream",
     "text": [
      "Racines réelles du polynome 1x^2 + -3x + 2 : \n",
      "Il existe 2 racines : x1 = 1.0 et x2 = 2.0\n"
     ]
    }
   ],
   "source": [
    "# cas 1 : \n",
    "a, b, c = 1, -3, 2\n",
    "racine_P2(a,b,c)"
   ]
  },
  {
   "cell_type": "code",
   "execution_count": 3,
   "metadata": {},
   "outputs": [
    {
     "name": "stdout",
     "output_type": "stream",
     "text": [
      "Racines réelles du polynome 1x^2 + -2x + 1 : \n",
      "Il existe 1 racine double : x1 = x2 = 1.0\n"
     ]
    }
   ],
   "source": [
    "# cas 2 : \n",
    "a, b, c = 1, -2, 1\n",
    "racine_P2(a,b,c)"
   ]
  },
  {
   "cell_type": "code",
   "execution_count": 4,
   "metadata": {},
   "outputs": [
    {
     "name": "stdout",
     "output_type": "stream",
     "text": [
      "Racines réelles du polynome 1x^2 + -1x + 2 : \n",
      "Il n'existe aucune racine\n"
     ]
    }
   ],
   "source": [
    "# cas 1 : \n",
    "a, b, c = 1, -1, 2\n",
    "racine_P2(a,b,c)"
   ]
  },
  {
   "cell_type": "markdown",
   "metadata": {},
   "source": [
    "**Conclusion :**\n",
    "Les résultats des trois tests sont conformes aux attentes, ce qui valide l'implémentation de la fonction *racine_P2*. On peut maintenant l'utiliser pour d'autres cas."
   ]
  },
  {
   "cell_type": "code",
   "execution_count": null,
   "metadata": {},
   "outputs": [],
   "source": []
  }
 ],
 "metadata": {
  "kernelspec": {
   "display_name": "Python 3",
   "language": "python",
   "name": "python3"
  },
  "language_info": {
   "codemirror_mode": {
    "name": "ipython",
    "version": 3
   },
   "file_extension": ".py",
   "mimetype": "text/x-python",
   "name": "python",
   "nbconvert_exporter": "python",
   "pygments_lexer": "ipython3",
   "version": "3.7.9"
  }
 },
 "nbformat": 4,
 "nbformat_minor": 2
}
