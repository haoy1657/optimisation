{
 "cells": [
  {
   "cell_type": "code",
   "execution_count": 1,
   "id": "b3a4aae4-5bd9-41a2-a4d7-f1a0e5b8c61e",
   "metadata": {},
   "outputs": [],
   "source": [
    "import projet_optimisation"
   ]
  },
  {
   "cell_type": "code",
   "execution_count": null,
   "id": "fd9e92de-fcff-4895-9c9b-41364f7bc257",
   "metadata": {},
   "outputs": [],
   "source": [
    "#les fonctions qui peuvent sutilisées pour ce projet\n",
    "#   projet_optimisation.résultat_iteration_gradient(X,l,theta,alpha,nmax) ---cette fonction est pour tracer le resultat d'iteration de la methode gradient a pas fixé dans le graphe\n",
    "#   projet_optimisation.résultat_iteration_newton(X,l,theta,precision,nmax)   ---cette fonction est pour tracer le resultat d'iteration de la methode newton dans le graphe \n",
    "#   projet_optimisation.solution_articulaire_1ere(X,l)                        ---méthode scipy.optimize.root\n",
    "#   projet_optimisation.solution_articulaire_2eme(X,l)                        ---méthode scipy.optimize.minimize \n",
    "#   projet_optimisation.solution_articulaire_3eme(X,l,alpha,nmax)             ---méthode grandient a pas fix \n",
    "#   projet_optimisation.solution_articulaire_4eme(X,l,precision,nmax)         ---méthoode newton\n",
    "#   projet_optimisation.solution_articulaire_analytique(X,l)                  ---méthode analytique \n",
    "#   projet_optimisation.solution_et_trajectoire(X,l)                          ---tracer le trajectoire des deux bras avec le résultat de la première méthode\n",
    "\n",
    "#commentaire pour les paramètres des fonction:\n",
    "#   X--->coordonnées de la pose ex:[2,3]\n",
    "#   l--->paramètre des longeur de bras ex:l--->[l1,l2]--->[2,3]\n",
    "#   précision--->la critière d'arret de la convergence, veuillez choisir 1e-2 pour la méthode newton pour éviter les erreurs de \"nan\" du python\n",
    "#   alpha--->le pas chois pour la méhthode gradient a pas fixé, veuillez choisir 1e-2 comme la pas, pour le cas alpha qui est plus grand que ca, on va le discuter après\n",
    "#   nmax--->nombre max d'itération，veuilez choisir 1000, vous pouvez également choisir les autre valures, mais pas trop petite\n",
    "\n",
    "#Atrention! 1.La compilation de la  methode gradient ou newton peut prendre jusqu'a une miminutes,\n",
    "#           2.Pour exécuter le programme et afficher le résultat voulu (méthode de gradient et newton), il faut saisir les valeurs demandées\n",
    "#           3.Pour utiliser les fonctions, veuillez décommter les commentaires\n",
    "######################################################################################################################################"
   ]
  },
  {
   "cell_type": "code",
   "execution_count": null,
   "id": "383d2db8-acc2-48e8-aee3-d299978928ac",
   "metadata": {},
   "outputs": [],
   "source": [
    "#### PARTIE A"
   ]
  },
  {
   "cell_type": "code",
   "execution_count": 7,
   "id": "8ce26bb5-e5df-40c2-a320-fccf9b0d19fa",
   "metadata": {},
   "outputs": [],
   "source": [
    "#### 1.Dans cette méthode on a tester 49 point des points départ en utilisant optimize.root, et puis on donne une méthode de fitrer ces résultats pour distinguer le cas pas de solution,\n",
    "#### solution unique et solution non-unique\n",
    "\n",
    "#projet_optimisation.solution_articulaire_1ere([5,12],[3,10])"
   ]
  },
  {
   "cell_type": "code",
   "execution_count": null,
   "id": "c2041a55-f79a-4f4a-9472-a58d3a6b9508",
   "metadata": {},
   "outputs": [
    {
     "name": "stdout",
     "output_type": "stream",
     "text": [
      "la methode par optimize.root\n",
      "\n",
      "les points départ différents pour trouver solution possible:\n",
      "49 points différent choisi:\n",
      "[3, -3], [3, -2], [3, -1], [3, 0], [3, 1], [3, 2], [3, 3], [2, -3], [2, -2], [2, -1], [2, 0],[2, 1], [2, 2], [2, 3], [1, -3], [1, -2], [1, -1], [1, 0], [1, 1], [1, 2], [1, 3], [0, -3], [0, -2], [0, -1], [0, 0], [0, 1], [0, 2], [0, 3], [-1, -3], [-1, -2], [-1, -1], [-1, 0], [-1, 1], [-1, 2], [-1, 3], [-2, -3], [-2, -2], [-2, -1], [-2, 0], [-2, 1], [-2, 2], [-2, 3], [-3, -3], [-3, -2], [-3, -1], [-3, 0], [-3, 1], [-3, 2], [-3, 3]\n",
      "\n",
      "les résultats résolu par root en ces 49 points:\n",
      "theta1----->\n",
      " [1.683374, 1.683374, 1.683374, 1.683384, 1.683374, 1.683374, 1.683374, 0.530924, 1.683374, 1.683374, 0.530917, 0.530924, 0.530924, 1.683373, 0.530924, 1.683374, 1.683374, 0.530924, 0.530924, 0.530924, 1.683372, 1.683373, 0.530924, 1.683374, 0.530923, 0.530924, 0.530924, 1.683373, 1.683373, 0.530924, 1.683374, 1.683376, 0.530924, 0.530924, 0.530924, 1.683373, 0.530924, 1.683374, 0.53094, 0.530923, 1.683373, 0.530924, 1.683373, 1.683373, 1.683374, 1.683365, 0.530923, 1.683373, 1.683373] \n",
      "theta2----->\n",
      " [5.335215, 5.335215, 5.335215, 5.335199, 5.335216, 5.335216, 5.335216, 0.947969, 5.335215, 5.335215, 0.947981, 0.94797, 0.94797, 5.335216, 0.947969, 5.335215, 5.335215, 0.94797, 0.94797, 0.94797, 5.335216, 5.335215, 0.947969, 5.335215, 0.947972, 0.94797, 0.94797, 5.335216, 5.335215, 0.947969, 5.335215, 5.335208, 0.94797, 0.94797, 0.94797, 5.335215, 0.947969, 5.335215, 0.947942, 0.94797, 5.335216, 0.94797, 5.335215, 5.335215, 5.335215, 5.335228, 0.94797, 5.335216, 5.335216]\n",
      "\n",
      "Et puis on doit filtrer ces résultat,enlever les résultats équivalents\n",
      "\n",
      "première filtrage des résultat:\n",
      "theta1----->\n",
      " [1.683374, 1.683374, 1.683374, 1.683384, 1.683374, 1.683374, 1.683374, 0.530924, 1.683374, 1.683374, 0.530917, 0.530924, 0.530924, 1.683373, 0.530924, 1.683374, 1.683374, 0.530924, 0.530924, 0.530924, 1.683372, 1.683373, 0.530924, 1.683374, 0.530923, 0.530924, 0.530924, 1.683373, 1.683373, 0.530924, 1.683374, 1.683376, 0.530924, 0.530924, 0.530924, 1.683373, 0.530924, 1.683374, 0.530923, 1.683373, 0.530924, 1.683373, 1.683373, 1.683374, 0.530923, 1.683373, 1.683373] \n",
      "theta2----->\n",
      " [5.335215, 5.335215, 5.335215, 5.335199, 5.335216, 5.335216, 5.335216, 0.947969, 5.335215, 5.335215, 0.947981, 0.94797, 0.94797, 5.335216, 0.947969, 5.335215, 5.335215, 0.94797, 0.94797, 0.94797, 5.335216, 5.335215, 0.947969, 5.335215, 0.947972, 0.94797, 0.94797, 5.335216, 5.335215, 0.947969, 5.335215, 5.335208, 0.94797, 0.94797, 0.94797, 5.335215, 0.947969, 5.335215, 0.94797, 5.335216, 0.94797, 5.335215, 5.335215, 5.335215, 0.94797, 5.335216, 5.335216]\n",
      "\n",
      "deuxième filtrage des résultat:\n",
      "theta1----->\n",
      " [1.683374, 0.530924] \n",
      "theta2----->\n",
      " [5.335215, 0.947969]\n",
      "\n",
      "\n",
      "----------------------------------------------------------------------------------------------------------\n",
      "\n",
      "solution possible trouvée par les points départ différents: [[1.683374, 5.335215], [0.530924, 0.947969]] \n",
      "la distace possible trouvée par les points départ différents: [4.1474883964996586e-13, 1.5429811274907783e-12]\n",
      "deux solutions possiblees [[1.683374, 5.335215], [0.530924, 0.947969]]\n",
      "vérification par modèle directe:\n",
      "[1.683374, 5.335215] ---> [1.9999998906356913, 3.999999365343961]\n",
      "[0.530924, 0.947969] ---> [2.0000012052359817, 4.0000003006449]\n"
     ]
    }
   ],
   "source": [
    "#### 2.Dans cette partie, on a fait le programme de tracer le trajectoire en utilisant le résutat du méthode de optimize.root\n",
    "#### l'idée est qu'on donne un coordonnée de la pose et la paramètre de la longueur des bras, et d'après le méthode root, on a un résulatat pour theta1 et theta2\n",
    "#### et on défini un temps passé (50), on divise la valeur de theta par 50 en utilisant linspace, et on utilise le list de ces deux linspace pour tracer le tracectoire\n",
    "#### en générale, il y en a trois cas: pas de solution, solution unique et solution non-unique\n",
    "#### le cas pas de solution et solution unique, on va tracer une tracjectoire et pour le cas solution non-unique, on va tracer deux trajectoire en un graphe\n",
    "\n",
    "#vou pouvez vérifier les trois cas en décommentant les fonctions suivantes\n",
    "##solution non-unique\n",
    "projet_optimisation.solution_et_trajectoire([2,4],[2,3])\n",
    "##solution unique\n",
    "#projet_optimisation.solution_et_trajectoire([3,4],[2,3])\n",
    "##pas de solution\n",
    "#projet_optimisation.solution_et_trajectoire([16,4],[2,3])"
   ]
  },
  {
   "cell_type": "code",
   "execution_count": 19,
   "id": "d156b37d-404a-45e6-b01c-fcfda57f0f59",
   "metadata": {},
   "outputs": [],
   "source": [
    "### 3..Deuxième méthode : utiliser la fonction « minimize » de la bibliothèque scypy.optimize appliquées au carré de la norme du résidu.\n",
    "#### Dans cette méthode on a tester 100 points des point départ en utilisant optimize.minimize, et puis on donne un méthode de fitrer ces résultats pour distinguer le cas pas de solution,\n",
    "#### solution unique et solution non-unique\n",
    "\n",
    "#vou pouvez vérifier les trois cas en décommentant les fonctions suivantes\n",
    "##solution non-unique\n",
    "#projet_optimisation.solution_articulaire_2eme([5,8],[3,10])\n",
    "##solution unique\n",
    "#projet_optimisation.solution_articulaire_2eme([5,12],[3,10])\n",
    "##pas de solution\n",
    "#projet_optimisation.solution_articulaire_2eme([5,20],[3,10])"
   ]
  },
  {
   "cell_type": "code",
   "execution_count": null,
   "id": "76928ee4-3104-4299-a1cf-f03fc05386f3",
   "metadata": {},
   "outputs": [],
   "source": [
    "### 4..Troisième méthode : écrire le programme pour minimiser le carré de la norme du résidu en appliquant la méthode du gradient à pas fixe, avec un mécanisme qui garantit que la norme du résidu diminue à chaque itération\n",
    "#### Dans cette méthode on a tester 400 points des point départ en utilisant gradient a pas fixé, et puis on donne un méthode de fitrer ces résultats pour distinguer le cas pas de solution,\n",
    "#### solution unique et solution non-unique\n",
    "\n",
    "#vou pouvez vérifier les trois cas en décommentant les fonctions suivantes\n",
    "##solution non-unique\n",
    "projet_optimisation.solution_articulaire_3eme([1,4],[2,3],0.05,1000)\n",
    "##solution unique\n",
    "#projet_optimisation.solution_articulaire_3eme([3,4],[2,3],0.05,1000)\n",
    "##pas de solution\n",
    "#projet_optimisation.solution_articulaire_3eme([1,15],[2,3],0.05,1000)"
   ]
  },
  {
   "cell_type": "code",
   "execution_count": 3,
   "id": "672c8d78-d8c0-442c-869a-6e9341368b84",
   "metadata": {},
   "outputs": [],
   "source": [
    "### 5..Quatrième méthode : écrire le programme pour minimiser le carré de la norme du résidu en appliquant la méthode de Newton.\n",
    "#### Dans cette méthode on a tester 400 points des point départ en utilisant méthode, et puis on donne un méthode de fitrer ces résultats pour distinguer le cas pas de solution,\n",
    "#### solution unique et solution non-unique\n",
    "\n",
    "#vou pouvez vérifier les trois cas en décommentant les fonctions suivantes\n",
    "##solution non-unique\n",
    "#projet_optimisation.solution_articulaire_4eme([1,4],[2,3],1e-2,1000)\n",
    "##solution unique\n",
    "#projet_optimisation.solution_articulaire_4eme([3,4],[2,3],1e-2,1000)\n",
    "##pas de solution\n",
    "#projet_optimisation.solution_articulaire_4eme([1,15],[2,3],1e-2,1000)"
   ]
  },
  {
   "cell_type": "code",
   "execution_count": 6,
   "id": "81229c66-332e-4fb2-92a6-136bb581f8a1",
   "metadata": {},
   "outputs": [],
   "source": [
    "### 6..le méthode analytique \n",
    "#### cette méthode est realisé par le méthode de root et les formules calculé manuellement\n",
    "#### pour le cas solution non-unique, on utilise la méthode root pour obtenir une solution, et puis on calculer une autre solution directement par le formule calculé\n",
    "#### ce méthode est le plus précis, il y a pas de posiibilité d'ommetre les solution, si la pose donnée est bien défini dans l'espace atteignable non-unique, on aura certainement deux solutions\n",
    "#### cependant on peux constater quelque  inconvénient de cette méthode, si le systète robotique a résoudre est assez complex, on ne peut pas trouver les solution par la méthode mathematique\n",
    "#### parce que les formule sera tres complex ou impossible de les trouver!\n",
    "\n",
    "#vou pouvez vérifier les trois cas en décommentant les fonctions suivantes\n",
    "##solution non-unique\n",
    "#projet_optimisation.solution_articulaire_analytique([1,4],[2,3])\n",
    "##solution unique\n",
    "#projet_optimisation.solution_articulaire_analytique([3,4],[2,3])\n",
    "##pas de solution\n",
    "#projet_optimisation.solution_articulaire_analytique([1,15],[2,3])\n",
    "######################################################################################################################################"
   ]
  },
  {
   "cell_type": "code",
   "execution_count": 24,
   "id": "f18d389c-f485-462b-93d6-4ec0d93a2b49",
   "metadata": {},
   "outputs": [],
   "source": [
    "#### PARTIE B\n",
    "###Importance du pas de la méthode du gradient\n",
    "#Apres d'avoir compilé les deux fonction suivante avec deux alpha différent(0.01 ou 0.05), on peut constater, le résumtat trouvé par la méthode gradient n'est pas paraeil\n",
    "#voici sont les résultat:\n",
    "#alpha--->0.05:\n",
    "#le cas pas de solution,le point le plus proche: point depart( [5.291103416572283, 5.9524913436438185] )   --->theta: [0.010059, 1.236812] et la distance le plus court: 2.2608399890116297\n",
    "#alpha--->0.01\n",
    "#les solutions posisbles trouvées---> [[2.081787, 5.052226], [0.569848, 1.23096]] \n",
    "#solution non_uniques!\n",
    "#premiere solution nous donne---> point depart( [0.0, 4.6297154895007475] )---> [2.081787, 5.052226]   vérification par modèle geometrique---> [1.0000000479014992, 4.000000143816065]\n",
    "#deuxieme solution nous donne---> point depart( [0.0, 5.9524913436438185] )---> [0.569848, 1.23096]   vérification par modèle geometrique---> [0.9999993110338806, 3.9999993482367535]\n",
    "#particulierement, on peut vérifier l'importance par la fonction \"résultat_iteration_gradient(X,l,theta,precision,nmax)\"\n",
    "#en compilant les deux exemple suivantes, on peut constater quand on choisi 0.05 comme alpha, il ne peut pas coverger correctement\n",
    "##conclusion: choisir une bonne valeur pour le pas de la méthode gradient est tres important, si le alpha est trop grand, la methode ne peut pas converger correctement, mais si le alpha est trop petit, la rapidité de la compilation est top bas, \n",
    "#donc pour avir un résultat une bonne rapidité, on doit choisir une pertinent alpha\n",
    "\n",
    "\n",
    "\n",
    "\n",
    "#projet_optimisation.solution_articulaire_3eme([1,4],[2,3],0.01,1000)\n",
    "#projet_optimisation.solution_articulaire_3eme([1,4],[2,3],0.05,1000)\n",
    "#projet_optimisation.résultat_iteration_gradient([1,4],[2,3],[0,0],0.01,1000) \n",
    "#projet_optimisation.résultat_iteration_gradient([1,4],[2,3],[0,0],0.05,1000) \n",
    "######################################################################################################################################"
   ]
  },
  {
   "cell_type": "code",
   "execution_count": 41,
   "id": "39680089-d7f3-4025-b41a-a5f53f6455ae",
   "metadata": {},
   "outputs": [],
   "source": [
    "#### PARTIE C\n",
    "###Importance du point de départ de la méthode de Newton\n",
    "#on peut utiliser la fontion \"projet_optimisation.résultat_iteration_newton(X,l,theta,precision,nmax)\"pour vérifier l'importance du point de départ de la méthode newton\n",
    "#quand on choisi [5,1.25] comme le point départ, on peut constater que la fonction est convergé en un point ni point max ni point max(cette fonction converge vers l'extremum local)\n",
    "#quand on choisi [5,0] comme le point départ, on peut constater que la fonction est convergé en max \n",
    "#quand on choisi [1.25,2.5] comme le point départ, on peut constater que la fonction est convergé en min\n",
    "#conclusiton: le choix différent du point départ de la méthode newton influence beaucoup le résultat de la méthode newton, pour avoir un résultat correct, on doit tester plein de points départs, et puis on doit filtrer ces résultat si bine que\n",
    "#nous puissons avoir un résultat correct\n",
    "\n",
    "\n",
    "\n",
    "#projet_optimisation.résultat_iteration_newton([1,4],[2,3],[5,1.25],0.01,1000) \n",
    "#projet_optimisation.résultat_iteration_newton([1,4],[2,3],[5,0],0.01,1000) \n",
    "#projet_optimisation.résultat_iteration_newton([1,4],[2,3],[1.25,2.5],0.01,1000) \n",
    "######################################################################################################################################"
   ]
  },
  {
   "cell_type": "code",
   "execution_count": null,
   "id": "ef7862e2-0b40-400a-8ce8-5f43be153a0d",
   "metadata": {},
   "outputs": [],
   "source": [
    "#conclusion finale:\n",
    "#Dans ce projet, on a programmé quatre méthodes pour trouve la solution de la modèle inverse d’un bras de robot à 2 articulations, methode optimize.root, méthode.optimize, methode gradient a pas fixé, méthode newton,en fait ,la pricipe de \n",
    "#ces methodes différentes sont meme, on donne un point départ, et puis les méthode va trouve une valeur minimun local apres la convergence, mais Ces méthodes ne peuvent produire qu'un seul résultat à la fois，Le résultat obtenu à chaque fois n'est pas forcément \n",
    "#la réponse que l'on souhaite, Afin de considérer toutes les situations(solution unique, non-unique,pas de solution) et de trouver la plus petite valeur, nous devons tester différents points de départ. Nous avons ajouté une liste de points de départ pour chaque méthode et écrit une boucle pour tester chaque point de départ.\n",
    "#Nous avons agrégé tous les résultats obtenus, et fait un tri, ajouté quelques restrictions(par exemple:minimisation de la valeur articulaire, enlever les valeurs équivalents), et enfin notre programme peut distinguer quelle situation est à partir des résultats obtenus(solution unique, non-unique,pas de solution)\n",
    "#Pour ces quatre méthodes,on constater que nous avons constaté que les première et deuxième méthodes obtiennent les résultats souhaités sans avoir à tester de nombreux points de départ(root,minimize), Les troisième et quatrième méthodes nécessitent davantage de données de départ pour le dépistage(gradient a pas fixé,newton),\n",
    "#pour la methode gradient a pas fixé, choix du bonne valeur du pas est tres important, si alpha est tres grand, la convergence de cette méthode n'est pas tres correcte, on aura pas un correct résultat, et pour la méthode newton, le choix du point départ est tres important, \n",
    "#Si le point de départ que nous choisissons ne convient pas, alors cette fonction peut converger vers l'extremum local, \n",
    "#Nous avons beaucoup appris grâce à ce projet. Non seulement dans le domaine de la robotique, mais aussi dans un large éventail de domaines d'ingénierie, l'optimisation est un outil nécessaire. Souvent, nous devons trouver la solution optimale, mais pour certaines situations très compliquées, trouver la solution optimale pas si facile\n",
    "#En fait, il existe de nombreux algorithmes d'optimisation, nous devons maîtriser davantage de méthodes d'optimisation et être en mesure de les appliquer dans des situations appropriées，par ailleur, nous avons aussi essyé utilisé la méthode relaxaion pour résoudre la problème demandé, \n",
    "#mais malheureusement, nous n'avons pas de le résussir\n"
   ]
  }
 ],
 "metadata": {
  "kernelspec": {
   "display_name": "Python 3 (ipykernel)",
   "language": "python",
   "name": "python3"
  },
  "language_info": {
   "codemirror_mode": {
    "name": "ipython",
    "version": 3
   },
   "file_extension": ".py",
   "mimetype": "text/x-python",
   "name": "python",
   "nbconvert_exporter": "python",
   "pygments_lexer": "ipython3",
   "version": "3.10.9"
  }
 },
 "nbformat": 4,
 "nbformat_minor": 5
}
