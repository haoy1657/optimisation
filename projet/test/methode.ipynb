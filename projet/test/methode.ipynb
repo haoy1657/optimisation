{
 "cells": [
  {
   "cell_type": "code",
   "execution_count": 29,
   "id": "015dd809-aadf-4155-b1a3-ebb8453d03bb",
   "metadata": {},
   "outputs": [],
   "source": [
    "import numpy as np \n",
    "import matplotlib.pyplot as plt"
   ]
  },
  {
   "cell_type": "code",
   "execution_count": 84,
   "id": "4ed0493c-0883-4efe-a9c1-c7fad27d85a7",
   "metadata": {},
   "outputs": [],
   "source": [
    "def f(theta):\n",
    "    return (l1*np.cos(theta[0])  + l2*np.cos(theta[0]+theta[1])-P[0])**2+(l1*np.sin(theta[0]) + l2*np.sin(theta[0]+theta[1])-P[1])**2"
   ]
  },
  {
   "cell_type": "code",
   "execution_count": 29,
   "id": "5ff3bc3a-682a-41b8-9123-fca1e2e8cfa3",
   "metadata": {},
   "outputs": [],
   "source": [
    "def j(theta1,theta2):\n",
    "    r1=2*(l1*np.cos(theta1)+l2*np.cos(theta1+theta2)-P[0])*(-l1*np.sin(theta1)-l2*np.sin(theta1+theta2))+2*(l1*np.sin(theta1)+l2*np.sin(theta1+theta2)-P[1])*(l1*np.cos(theta1)+l2*np.cos(theta1+theta2))\n",
    "    r2=2*(l1*np.cos(theta1)+l2*np.cos(theta1+theta2)-P[0])*(-l2*np.sin(theta1+theta2))+2*(l1*np.sin(theta1)+l2*np.sin(theta1+theta2)-P[1])*(l2*np.cos(theta1+theta2))\n",
    "    return r1,r2"
   ]
  },
  {
   "cell_type": "code",
   "execution_count": 29,
   "id": "90997205-6ee3-4a6c-ae00-eb96e49c1af7",
   "metadata": {},
   "outputs": [],
   "source": [
    "def F(theta1,theta2):#Modème directe\n",
    "    X=[l1*np.cos(theta1)+l2*np.cos(theta1+theta2),l1*np.sin(theta1)+l2*np.sin(theta1+theta2)]\n",
    "    return X"
   ]
  },
  {
   "cell_type": "code",
   "execution_count": 29,
   "id": "7b23c7c6-b3ae-42ec-9c12-3d32eb1aeb1d",
   "metadata": {},
   "outputs": [],
   "source": [
    "def Dichotomie(f,theta,precision,nmax) :    \n",
    "    n = 0 \n",
    "    dX = 1\n",
    "    inf = np.zeros((2,20)) \n",
    "    sup = np.zeros((2,20))\n",
    "    while precision < abs(dX) and n<=nmax :   \n",
    "        inf[0][n] = x1 ; inf[1][n] = f1(x1)  \n",
    "        sup[0][n] = x5 ; sup[1][n] = f1(x5)  \n",
    "        dX  =  x5 - x1 \n",
    "        x3 = 0.5*(x1 + x5) ; x4 = 0.5*(x5+x3) ; x2 = 0.5*(x3+x1)     \n",
    "        if f1(x1) < f1(x2) < f1(x3) < f1(x4) < f1(x5) : x5 = x2 ; n += 1  \n",
    "        elif f1(x1)  > f1(x2) < f1(x3) < f1(x4) < f1(x5) : x5 = x3 ; n += 1\n",
    "        elif f1(x1)  > f1(x2) > f1(x3) < f1(x4) < f1(x5) : x1 = x2 ; x5 = x4; n += 1\n",
    "        elif f1(x1)  > f1(x2) > f1(x3) > f1(x4) < f1(x5) : x1 = x3 ; n += 1\n",
    "        elif f1(x1)  > f1(x2) > f1(x3) > f1(x4) > f1(x5) : x1 = x4 ; n += 1      \n",
    "        else : n += 1  ;\n",
    "    print(inf,sup)\n",
    "    \n",
    "x1 = -4\n",
    "x5 = +4\n",
    "precision = 1e-3\n",
    "nmax=50"
   ]
  },
  {
   "cell_type": "code",
   "execution_count": null,
   "id": "6f4b628a-209c-4a5f-a730-70da52c0e4b6",
   "metadata": {},
   "outputs": [],
   "source": [
    "def relexation(theta,precision,alpha,nmax):\n",
    "    dX=1\n",
    "    theta1=[theta[0]]\n",
    "    theta2=[theta[1]]\n",
    "    n=0\n",
    "    while dX>precision and n<=nmax:\n",
    "        \n",
    "        \n",
    "        \n",
    "        "
   ]
  }
 ],
 "metadata": {
  "kernelspec": {
   "display_name": "Python 3 (ipykernel)",
   "language": "python",
   "name": "python3"
  },
  "language_info": {
   "codemirror_mode": {
    "name": "ipython",
    "version": 3
   },
   "file_extension": ".py",
   "mimetype": "text/x-python",
   "name": "python",
   "nbconvert_exporter": "python",
   "pygments_lexer": "ipython3",
   "version": "3.9.12"
  }
 },
 "nbformat": 4,
 "nbformat_minor": 5
}
