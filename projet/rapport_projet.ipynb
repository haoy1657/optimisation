{
 "cells": [
  {
   "cell_type": "markdown",
   "id": "4f7b0971-12ca-4540-a634-ebb054bf65c3",
   "metadata": {},
   "source": [
    "Fait par :  \n",
    "HAO Yuan 21117163 SAR  \n",
    "YIFENG Yu 21113616 SAR  \n",
    "XUCHEN wei 28620150 SAR  "
   ]
  },
  {
   "cell_type": "code",
   "execution_count": 2,
   "id": "b3a4aae4-5bd9-41a2-a4d7-f1a0e5b8c61e",
   "metadata": {
    "is_executing": true
   },
   "outputs": [],
   "source": [
    "import projet_optimisation"
   ]
  },
  {
   "cell_type": "markdown",
   "id": "fac21e32-eb03-4b45-bfae-47e6e0fc3636",
   "metadata": {},
   "source": [
    "# *Préliminaire*\n",
    "## *les fonctions qui peuvent etre sutilisées pour ce projet*\n",
    "projet_optimisation.résultat_iteration_gradient(X,l,theta,alpha,nmax)      \n",
    "--->cette fonction est pour tracer le resultat d'iteration de la methode gradient a pas fixé a partir d'un point départ choisi dans le graphe \n",
    "\n",
    "projet_optimisation.résultat_iteration_newton(X,l,theta,precision,nmax)    \n",
    "--->cette fonction est pour tracer le resultat d'iteration de la methode newton a partir d'un point départ choisi dans le graphe \n",
    "\n",
    "projet_optimisation.solution_articulaire_1ere(X,l)                         \n",
    "--->méthode scipy.optimize.root\n",
    "\n",
    "projet_optimisation.solution_articulaire_2eme(X,l)                         \n",
    "--->méthode scipy.optimize.minimize \n",
    "\n",
    "projet_optimisation.solution_articulaire_3eme(X,l,alpha,nmax)              \n",
    "--->méthode grandient a pas fix \n",
    "\n",
    "projet_optimisation.solution_articulaire_4eme(X,l,precision,nmax)          \n",
    "--->méthoode newton\n",
    "\n",
    "projet_optimisation.solution_articulaire_analytique(X,l)                   \n",
    "--->méthode analytique \n",
    "\n",
    "projet_optimisation.solution_et_trajectoire(X,l)                           \n",
    "--->on trace le trajectoire pour les deux longueurs l1,l2 avec les esultat de premiers methode  \n",
    "\n",
    "projet_optimisation.solution_et_trajectoire_avec_resultat_iteration_newton(X,l,precision,nmax) ---on trace le trajectoire pour les deux longueurs l1,l2 avec les resultat de quatrième methode  \n",
    "\n",
    "## *les commentaires sur les paramètres des fonctions:*\n",
    "X--->coordonnées de la pose ex:[2,3]\n",
    "\n",
    "l--->paramètre des longeur de bras ex: l--->[l1,l2]--->[2,3]\n",
    "\n",
    "précision--->la critière d'arret de la convergence, veuillez choisir 1e-2 pour la méthode newton pour éviter les erreurs de \"nan\" du python\n",
    "\n",
    "alpha--->le pas chois pour la méhthode gradient a pas fixé, veuillez choisir 1e-2 comme la pas max, pour le cas alpha qui est plus grand que ca, on va le discuter après\n",
    "\n",
    "nmax--->nombre max d'itération，veuilez choisir 1000, vous pouvez également choisir les autre valures, mais pas trop petite\n",
    "\n",
    "## *Atention!* \n",
    "1.La compilation de la  methode gradient ou newton peut prendre jusqu'a une miminutes  \n",
    "2.Pour exécuter le programme et afficher le résultat voulu (méthode de gradient et newton), il faut saisir les valeurs demandées  \n",
    "3.Pour utiliser les fonctions, veuillez décommter les commentaires  \n"
   ]
  },
  {
   "cell_type": "markdown",
   "id": "0392a78e-0b29-44b7-91e5-60db1ef7418c",
   "metadata": {},
   "source": [
    "# *Ⅰ.Introduction:*\n",
    "Dans ce TP, on a étudié le trajectoire d’un bras de robot à 2 articulations,on a appris quatre méthodes différents.Les quatre méthodes utilisent différentes méthodes d'itération. Pour chaque méthode, ses résultats itératifs sont basés sur les quelques paramètres que nous avons donnés. Afin de pouvoir trouver autant que possible des solutions possibles dans l'espace, nous avons défini de nombreux points de départ à l'intérieur de chaque méthode,pour la méthode scipy.optimize.root, on a mis 49 points départs, pour la méthode scipy.optimize.minimize, on a mis 100 points départ, pour la méthode de gradient et newton, on a  mis 400 points départ.En même temps, nous avons créé des boucles qui peuvent filtrer ces points à l'intérieur du programme, afin que notre programme puisse obtenir des résultats appropriés(solution unique, solution non unique, pas de solution) sous n'importe quelle valeur de paramètre donnée(X,l).De plus, pour les troisième et quatrième méthodes, vous pouvez choisir d'afficher ou non les résultats d'itération de quatre cents points de départ, et la situation de filtrage pour ces quatre cents points. Comme mentionné dans la préliminaire, notre programme se compose de neuf fonctions, chacune implémentant une fonction différente, et nous utilisons ces fonctions dans le contenu suivant pour illustrer les résultats que nous obtenons.\n",
    "\n"
   ]
  },
  {
   "cell_type": "markdown",
   "id": "2c669446-b2bc-486b-9f2b-a14d35792546",
   "metadata": {},
   "source": [
    "# *Ⅱ.PARTIE A*\n",
    "### *1.Dans cette méthode on a tester 49 point des points départ en utilisant optimize.root, et puis on donne une méthode de fitrer ces résultats pour distinguer le cas pas de solution,solution unique et solution non-unique*\n",
    "#### vou pouvez vérifier les trois cas en décommentant les fonctions suivantes"
   ]
  },
  {
   "cell_type": "code",
   "execution_count": 2,
   "id": "2f4a777b-5f9b-4695-bbd9-75aa9d1597f8",
   "metadata": {},
   "outputs": [
    {
     "name": "stdout",
     "output_type": "stream",
     "text": [
      "la methode par optimize.root\n",
      "\n",
      "les points départ différents pour trouver solution possible:\n",
      "49 points différent choisi:\n",
      "[3, -3], [3, -2], [3, -1], [3, 0], [3, 1], [3, 2], [3, 3], [2, -3], [2, -2], [2, -1], [2, 0],[2, 1], [2, 2], [2, 3], [1, -3], [1, -2], [1, -1], [1, 0], [1, 1], [1, 2], [1, 3], [0, -3], [0, -2], [0, -1], [0, 0], [0, 1], [0, 2], [0, 3], [-1, -3], [-1, -2], [-1, -1], [-1, 0], [-1, 1], [-1, 2], [-1, 3], [-2, -3], [-2, -2], [-2, -1], [-2, 0], [-2, 1], [-2, 2], [-2, 3], [-3, -3], [-3, -2], [-3, -1], [-3, 0], [-3, 1], [-3, 2], [-3, 3]\n",
      "\n",
      "les résultats résolu par root en 49 points départ:\n",
      "theta1----->\n",
      " [0.927295, 0.927295, 0.927295, 0.927306, 0.927294, 0.927295, 0.927295, 0.927296, 0.927295, 0.927295, 0.927288, 0.927295, 0.927295, 0.927294, 0.927297, 0.927295, 0.927295, 0.927295, 0.927295, 0.927295, 0.927295, 0.927296, 0.927296, 0.927295, 0.927295, 0.927295, 0.927295, 0.927295, 0.927295, 0.927295, 0.927296, 0.928081, 0.927295, 0.927295, 0.927295, 0.927295, 0.927295, 0.927295, 0.927303, 0.927295, 0.927295, 0.927295, 0.927295, 0.927295, 0.927295, 0.927287, 0.927294, 0.927295, 0.927295] \n",
      "theta2----->\n",
      " [6.283185, 6.283185, 6.283185, 6.283167, 1e-06, 0.0, 0.0, 6.283185, 6.283185, 6.283185, 1.2e-05, 0.0, 0.0, 1e-06, 6.283184, 6.283185, 6.283185, 0.0, 0.0, 6.283185, 0.0, 6.283184, 6.283185, 0.0, 0.0, 0.0, 6.283185, 0.0, 6.283185, 6.283185, 6.283184, 6.281875, 6.283185, 6.283185, 0.0, 6.283185, 6.283185, 6.283185, 6.283173, 0.0, 0.0, 0.0, 6.283185, 6.283185, 6.283185, 1.3e-05, 1e-06, 0.0, 6.283185]\n",
      "\n",
      "Et puis on doit filtrer ces résultat,enlever les résultats équivalents\n",
      "\n",
      "première filtrage des résultat:\n",
      "theta1----->\n",
      " [0.927295, 0.927295, 0.927295, 0.927306, 0.927294, 0.927295, 0.927295, 0.927296, 0.927295, 0.927295, 0.927288, 0.927295, 0.927295, 0.927294, 0.927297, 0.927295, 0.927295, 0.927295, 0.927295, 0.927295, 0.927295, 0.927296, 0.927296, 0.927295, 0.927295, 0.927295, 0.927295, 0.927295, 0.927295, 0.927295, 0.927296, 0.928081, 0.927295, 0.927295, 0.927295, 0.927295, 0.927295, 0.927295, 0.927303, 0.927295, 0.927295, 0.927295, 0.927295, 0.927295, 0.927295, 0.927287, 0.927294, 0.927295, 0.927295] \n",
      "theta2----->\n",
      " [0, 0, 0, 0, 0, 0, 0, 0, 0, 0, 0, 0, 0, 0, 0, 0, 0, 0, 0, 0, 0, 0, 0, 0, 0, 0, 0, 0, 0, 0, 0, 0, 0, 0, 0, 0, 0, 0, 0, 0, 0, 0, 0, 0, 0, 0, 0, 0, 0]\n",
      "\n",
      "deuxième filtrage des résultat:\n",
      "theta1----->\n",
      " [0.927295] \n",
      "theta2----->\n",
      " [0]\n",
      "\n",
      "\n",
      "----------------------------------------------------------------------------------------------------------\n",
      "\n",
      "solution possible trouvée par les points départ différents: [[0.927295, 0]] \n",
      "la distace possible trouvée par les points départ différents: [1.1881175731657977e-12]\n",
      "solution unique: [0.927295, 0] vérification par modème directe: [3.0000008720063773, 3.999999345995068]\n",
      "la methode par optimize.root\n",
      "\n",
      "les points départ différents pour trouver solution possible:\n",
      "49 points différent choisi:\n",
      "[3, -3], [3, -2], [3, -1], [3, 0], [3, 1], [3, 2], [3, 3], [2, -3], [2, -2], [2, -1], [2, 0],[2, 1], [2, 2], [2, 3], [1, -3], [1, -2], [1, -1], [1, 0], [1, 1], [1, 2], [1, 3], [0, -3], [0, -2], [0, -1], [0, 0], [0, 1], [0, 2], [0, 3], [-1, -3], [-1, -2], [-1, -1], [-1, 0], [-1, 1], [-1, 2], [-1, 3], [-2, -3], [-2, -2], [-2, -1], [-2, 0], [-2, 1], [-2, 2], [-2, 3], [-3, -3], [-3, -2], [-3, -1], [-3, 0], [-3, 1], [-3, 2], [-3, 3]\n",
      "\n",
      "les résultats résolu par root en 49 points départ:\n",
      "theta1----->\n",
      " [1.176005, 1.176005, 1.176005, 1.175984, 1.176005, 1.175992, 1.176006, 1.176007, 1.176005, 1.176005, 1.176006, 1.176005, 1.176003, 1.176001, 1.176005, 1.176006, 1.176005, 1.176005, 1.176005, 1.176005, 1.176004, 1.176007, 1.176006, 1.176007, 1.176005, 1.176005, 1.176005, 1.176004, 1.176005, 1.176006, 1.176005, 1.176007, 1.176005, 1.176005, 1.176005, 1.176005, 1.176005, 1.176006, 1.176005, 1.176005, 1.176006, 1.176005, 1.176005, 1.176005, 1.176005, 1.176018, 1.176005, 1.176004, 1.176005] \n",
      "theta2----->\n",
      " [0.0, 6.283185, 0.0, 2.7e-05, 0.0, 1.8e-05, 6.283185, 6.283184, 0.0, 6.283185, 6.283184, 6.283185, 2e-06, 3e-06, 0.0, 6.283184, 6.283185, 0.0, 0.0, 0.0, 6.283185, 6.283184, 6.283184, 6.283184, 6.283185, 6.283185, 0.0, 1e-06, 6.283185, 6.283184, 6.283185, 6.283182, 0.0, 0.0, 6.283185, 6.283185, 6.283185, 6.283183, 6.283184, 1e-06, 6.283184, 0.0, 6.283185, 6.283185, 0.0, 6.283169, 1e-06, 2e-06, 0.0]\n",
      "\n",
      "Et puis on doit filtrer ces résultat,enlever les résultats équivalents\n",
      "\n",
      "première filtrage des résultat:\n",
      "theta1----->\n",
      " [1.176005, 1.176005, 1.176005, 1.175984, 1.176005, 1.175992, 1.176006, 1.176007, 1.176005, 1.176005, 1.176006, 1.176005, 1.176003, 1.176005, 1.176006, 1.176005, 1.176005, 1.176005, 1.176005, 1.176007, 1.176006, 1.176007, 1.176005, 1.176005, 1.176005, 1.176004, 1.176005, 1.176006, 1.176005, 1.176007, 1.176005, 1.176005, 1.176005, 1.176005, 1.176005, 1.176005, 1.176006, 1.176005, 1.176005, 1.176005, 1.176005, 1.176018, 1.176005, 1.176004, 1.176005] \n",
      "theta2----->\n",
      " [0, 0, 0, 0, 0, 0, 0, 0, 0, 0, 0, 0, 0, 0, 0, 0, 0, 0, 0, 0, 0, 0, 0, 0, 0, 0, 0, 0, 0, 0, 0, 0, 0, 0, 0, 0, 0, 0, 0, 0, 0, 0, 0, 0, 0]\n",
      "\n",
      "deuxième filtrage des résultat:\n",
      "theta1----->\n",
      " [1.176005] \n",
      "theta2----->\n",
      " [0]\n",
      "\n",
      "\n",
      "----------------------------------------------------------------------------------------------------------\n",
      "\n",
      "solution possible trouvée par les points départ différents: [[1.176005, 0]] \n",
      "la distace possible trouvée par les points départ différents: [7.2481387554624996e-12]\n",
      "solution unique: [1.176005, 0] vérification par modème directe: [5.000002485141515, 11.999998964524067]\n"
     ]
    },
    {
     "data": {
      "text/plain": [
       "(array([0.        , 0.0240001 , 0.0480002 , 0.07200031, 0.09600041,\n",
       "        0.12000051, 0.14400061, 0.16800071, 0.19200082, 0.21600092,\n",
       "        0.24000102, 0.26400112, 0.28800122, 0.31200133, 0.33600143,\n",
       "        0.36000153, 0.38400163, 0.40800173, 0.43200184, 0.45600194,\n",
       "        0.48000204, 0.50400214, 0.52800224, 0.55200235, 0.57600245,\n",
       "        0.60000255, 0.62400265, 0.64800276, 0.67200286, 0.69600296,\n",
       "        0.72000306, 0.74400316, 0.76800327, 0.79200337, 0.81600347,\n",
       "        0.84000357, 0.86400367, 0.88800378, 0.91200388, 0.93600398,\n",
       "        0.96000408, 0.98400418, 1.00800429, 1.03200439, 1.05600449,\n",
       "        1.08000459, 1.10400469, 1.1280048 , 1.1520049 , 1.176005  ]),\n",
       " array([0., 0., 0., 0., 0., 0., 0., 0., 0., 0., 0., 0., 0., 0., 0., 0., 0.,\n",
       "        0., 0., 0., 0., 0., 0., 0., 0., 0., 0., 0., 0., 0., 0., 0., 0., 0.,\n",
       "        0., 0., 0., 0., 0., 0., 0., 0., 0., 0., 0., 0., 0., 0., 0., 0.]),\n",
       " [],\n",
       " [],\n",
       " True,\n",
       " False)"
      ]
     },
     "execution_count": 2,
     "metadata": {},
     "output_type": "execute_result"
    }
   ],
   "source": [
    "#vou pouvez vérifier les trois cas en décommentant les fonctions suivantes\n",
    "##solution non-unique\n",
    "#projet_optimisation.solution_articulaire_1ere([2,4],[2,3])\n",
    "#projet_optimisation.solution_articulaire_1ere([5,9],[3,10])\n",
    "#solution unique\n",
    "projet_optimisation.solution_articulaire_1ere([3,4],[2,3])\n",
    "projet_optimisation.solution_articulaire_1ere([5,12],[3,10])\n",
    "#pas de soulution\n",
    "#projet_optimisation.solution_articulaire_1ere([16,4],[2,3])\n",
    "#projet_optimisation.solution_articulaire_1ere([5,13],[3,10])"
   ]
  },
  {
   "cell_type": "markdown",
   "id": "29963dd6-958c-46f0-b1e7-7013f0da6008",
   "metadata": {},
   "source": [
    "### *2.Dans cette partie, on a fait le programme de tracer le trajectoire en utilisant le résutat du méthode de optimize.root et la méthode newton*\n",
    "Pour le trajectoire en utilisant le résutat du méthode de optimize.root, l'idée est qu'on donne un coordonnée de la pose et la paramètre de la longueur des bras, et d'après le méthode root, on a un résulatat pour theta1 et theta2 et on défini un temps passé (50), on divise la valeur de theta par 50 en utilisant linspace, et on utilise le list de ces deux linspace pour tracer le tracectoire,en générale, il y en a trois cas: pas de solution, solution unique et solution non-unique,le cas pas de solution et solution unique, on va tracer une tracjectoire et pour le cas solution non-unique, on va tracer deux trajectoire en un graphe  \n",
    "Et pour le trajectoire en utilisant le résutat du méthode newton, tout d'abord, on va compiler solution_articulaire_4eme pour trouver les points départ les plus approprié,trois solutions possibles, soit une point départ qui est correspondant au cas pas de solution ou solution unique, soit deux points départs qui est correspondant au cas solution non_unique.ensuite, on va utiliser ces points départ dans la fonction Newton(theta,precision,nmax) pour faire les itération, En itérant, nous obtiendrons deux listes en même temps, correspondant à theta1 et theta2,et puis on trace le trajectoire du robot a l'instant différent d'apres ces deux tableau. \n",
    "\n",
    "#### vou pouvez vérifier les trois cas en décommentant les fonctions suivantes"
   ]
  },
  {
   "cell_type": "code",
   "execution_count": null,
   "id": "55e7a82e-2441-4210-847f-1d622c6d0664",
   "metadata": {},
   "outputs": [
    {
     "name": "stdout",
     "output_type": "stream",
     "text": [
      "la methode par optimize.root\n",
      "\n",
      "les points départ différents pour trouver solution possible:\n",
      "49 points différent choisi:\n",
      "[3, -3], [3, -2], [3, -1], [3, 0], [3, 1], [3, 2], [3, 3], [2, -3], [2, -2], [2, -1], [2, 0],[2, 1], [2, 2], [2, 3], [1, -3], [1, -2], [1, -1], [1, 0], [1, 1], [1, 2], [1, 3], [0, -3], [0, -2], [0, -1], [0, 0], [0, 1], [0, 2], [0, 3], [-1, -3], [-1, -2], [-1, -1], [-1, 0], [-1, 1], [-1, 2], [-1, 3], [-2, -3], [-2, -2], [-2, -1], [-2, 0], [-2, 1], [-2, 2], [-2, 3], [-3, -3], [-3, -2], [-3, -1], [-3, 0], [-3, 1], [-3, 2], [-3, 3]\n",
      "\n",
      "les résultats résolu par root en 49 points départ:\n",
      "theta1----->\n",
      " [2.389221, 2.389221, 2.389221, 2.389218, 6.02136, 6.02136, 2.389221, 6.021361, 2.389221, 2.389221, 2.389221, 2.389221, 2.38922, 6.021358, 6.02136, 2.389221, 6.02136, 6.02136, 6.02136, 2.38922, 6.02136, 6.021361, 6.02136, 6.02136, 6.02136, 6.02136, 6.02136, 2.38922, 2.389221, 6.02136, 2.389221, 2.389223, 6.02136, 6.02136, 2.389221, 6.02136, 6.02136, 6.02136, 2.38921, 6.02136, 2.389221, 2.389221, 2.389221, 2.389221, 2.389221, 6.02137, 6.02136, 2.389221, 2.389221] \n",
      "theta2----->\n",
      " [4.662368, 4.662368, 4.662368, 4.662371, 1.620817, 1.620817, 4.662368, 1.620816, 4.662368, 4.662368, 4.662368, 4.662368, 4.662368, 1.620818, 1.620817, 4.662367, 1.620817, 1.620817, 1.620817, 4.662368, 1.620817, 1.620816, 1.620817, 1.620817, 1.620817, 1.620817, 1.620817, 4.662369, 4.662368, 1.620817, 4.662368, 4.662364, 1.620817, 1.620817, 4.662368, 1.620817, 1.620817, 1.620817, 4.662382, 1.620817, 4.662368, 4.662368, 4.662368, 4.662368, 4.662368, 1.620804, 1.620817, 4.662368, 4.662368]\n",
      "\n",
      "Et puis on doit filtrer ces résultat,enlever les résultats équivalents\n",
      "\n",
      "première filtrage des résultat:\n",
      "theta1----->\n",
      " [2.389221, 2.389221, 2.389221, 2.389218, 6.02136, 6.02136, 2.389221, 6.021361, 2.389221, 2.389221, 2.389221, 2.389221, 2.38922, 6.02136, 2.389221, 6.02136, 6.02136, 6.02136, 2.38922, 6.02136, 6.021361, 6.02136, 6.02136, 6.02136, 6.02136, 6.02136, 2.38922, 2.389221, 6.02136, 2.389221, 2.389223, 6.02136, 6.02136, 2.389221, 6.02136, 6.02136, 6.02136, 6.02136, 2.389221, 2.389221, 2.389221, 2.389221, 2.389221, 6.02136, 2.389221, 2.389221] \n",
      "theta2----->\n",
      " [4.662368, 4.662368, 4.662368, 4.662371, 1.620817, 1.620817, 4.662368, 1.620816, 4.662368, 4.662368, 4.662368, 4.662368, 4.662368, 1.620817, 4.662367, 1.620817, 1.620817, 1.620817, 4.662368, 1.620817, 1.620816, 1.620817, 1.620817, 1.620817, 1.620817, 1.620817, 4.662369, 4.662368, 1.620817, 4.662368, 4.662364, 1.620817, 1.620817, 4.662368, 1.620817, 1.620817, 1.620817, 1.620817, 4.662368, 4.662368, 4.662368, 4.662368, 4.662368, 1.620817, 4.662368, 4.662368]\n",
      "\n",
      "deuxième filtrage des résultat:\n",
      "theta1----->\n",
      " [2.389221, 6.02136] \n",
      "theta2----->\n",
      " [4.662368, 1.620817]\n",
      "\n",
      "\n",
      "----------------------------------------------------------------------------------------------------------\n",
      "\n",
      "solution possible trouvée par les points départ différents: [[2.389221, 4.662368], [6.02136, 1.620817]] \n",
      "la distace possible trouvée par les points départ différents: [3.700045973417641e-13, 8.900098245734113e-12]\n",
      "deux solutions possiblees [[2.389221, 4.662368], [6.02136, 1.620817]]\n",
      "vérification par modèle directe:\n",
      "[2.389221, 4.662368] ---> [4.99999939650397, 8.999999923861054]\n",
      "[6.02136, 1.620817] ---> [5.000002825195132, 8.999999041683397]\n"
     ]
    }
   ],
   "source": [
    "#la méthode optimize.root\n",
    "##solution non-unique\n",
    "###projet_optimisation.solution_et_trajectoire([2,4],[2,3])\n",
    "projet_optimisation.solution_et_trajectoire([5,9],[3,10])\n",
    "##solution unique\n",
    "###projet_optimisation.solution_et_trajectoire([3,4],[2,3])\n",
    "###projet_optimisation.solution_et_trajectoire([5,12],[3,10])\n",
    "##pas de solution\n",
    "###projet_optimisation.solution_et_trajectoire([16,4],[2,3])\n",
    "###projet_optimisation.solution_et_trajectoire([5,13],[3,10])\n",
    "\n",
    "#la méthode newton\n",
    "##solution non-unique\n",
    "###projet_optimisation.solution_et_trajectoire_avec_resultat_iteration_newton([1,4],[2,3],1e-2,1000)\n",
    "projet_optimisation.solution_et_trajectoire_avec_resultat_iteration_newton([3,9],[3,10],1e-2,1000)\n",
    "##solution unique\n",
    "###projet_optimisation.solution_et_trajectoire_avec_resultat_iteration_newton([3,4],[2,3],1e-2,1000)\n",
    "###projet_optimisation.solution_et_trajectoire_avec_resultat_iteration_newton([5,12],[3,10],1e-2,1000)\n",
    "##pas de solution\n",
    "###projet_optimisation.solution_et_trajectoire_avec_resultat_iteration_newton([3,5],[2,3],1e-2,1000)\n",
    "###projet_optimisation.solution_et_trajectoire_avec_resultat_iteration_newton([5,13],[3,10],1e-2,1000)"
   ]
  },
  {
   "cell_type": "markdown",
   "id": "7996f59c-fc59-4ce3-826e-b26f63e378bc",
   "metadata": {},
   "source": [
    "### *3.Deuxième méthode : utiliser la fonction « minimize » de la bibliothèque scypy.optimize appliquées au carré de la norme du résidu.*\n",
    "#### Dans cette méthode on a tester 100 points des point départ en utilisant optimize.minimize, et puis on donne un méthode de fitrer ces résultats pour distinguer le cas pas de solution,solution unique et solution non-unique\n",
    "#### vou pouvez vérifier les trois cas en décommentant les fonctions suivantes"
   ]
  },
  {
   "cell_type": "code",
   "execution_count": 3,
   "id": "49864fc1-3a09-4f77-b9df-3696f18be88d",
   "metadata": {},
   "outputs": [
    {
     "name": "stdout",
     "output_type": "stream",
     "text": [
      "la methode par optimize.minimize\n",
      "\n",
      "\n",
      "les résultats résolu par minimize en 100 points départ:\n",
      "theta1----->\n",
      " [0.530924, 0.530924, 0.530924, 0.530924, 0.530924, 0.530924, 1.683374, 1.683375, 0.530923, 0.530924, 0.530924, 0.530924, 0.530924, 0.530924, 0.530924, 0.530923, 1.683373, 1.683374, 1.683373, 0.530924, 1.683374, 0.530924, 0.530924, 0.530924, 0.530923, 0.530924, 1.683374, 1.683374, 1.683374, 1.683374, 1.683373, 1.683374, 0.530924, 0.530924, 1.683374, 1.683374, 1.683374, 1.683374, 1.683374, 1.683373, 1.683374, 1.683372, 1.683374, 1.683372, 1.683374, 1.683374, 1.683374, 1.683375, 1.683374, 1.683374, 0.530924, 1.683373, 1.683374, 1.683374, 1.683374, 1.683374, 1.683374, 1.683374, 1.683374, 0.530924, 1.683373, 1.683374, 0.530924, 0.530923, 0.530924, 1.683376, 1.683374, 1.683372, 0.530924, 1.683373, 1.683374, 0.530924, 0.530924, 0.530924, 0.530924, 0.530924, 1.683374, 1.683373, 0.530926, 1.683374, 0.530924, 0.530924, 0.530923, 0.530924, 0.530924, 0.530925, 0.530924, 1.683375, 0.530924, 0.530924, 0.530924, 0.530924, 0.530924, 0.530924, 0.530924, 0.530924, 1.683374, 1.683375, 0.530924, 0.530924] \n",
      "theta2----->\n",
      " [0.94797, 0.94797, 0.947969, 0.94797, 0.947969, 0.94797, 5.335215, 5.335214, 0.94797, 0.94797, 0.947969, 0.94797, 0.94797, 0.94797, 0.94797, 0.94797, 5.335217, 5.335216, 5.335216, 0.94797, 5.335215, 0.94797, 0.94797, 0.94797, 0.94797, 0.94797, 5.335216, 5.335216, 5.335216, 5.335216, 5.335216, 5.335215, 0.94797, 0.94797, 5.335216, 5.335216, 5.335216, 5.335216, 5.335216, 5.335216, 5.335215, 5.335218, 5.335214, 5.335217, 5.335215, 5.335215, 5.335215, 5.335214, 5.335216, 5.335216, 0.94797, 5.335215, 5.335215, 5.335216, 5.335216, 5.335216, 5.335215, 5.335216, 5.335215, 0.94797, 5.335215, 5.335216, 0.94797, 0.947971, 0.94797, 5.335211, 5.335215, 5.335218, 0.94797, 5.335215, 5.335216, 0.947969, 0.94797, 0.94797, 0.94797, 0.94797, 5.335216, 5.335216, 0.947967, 5.335216, 0.94797, 0.94797, 0.947971, 0.94797, 0.94797, 0.947969, 0.94797, 5.335215, 0.94797, 0.94797, 0.94797, 0.94797, 0.947969, 0.94797, 0.947969, 0.94797, 5.335215, 5.335214, 0.94797, 0.94797]\n",
      "\n",
      "Et puis on doit filtrer ces résultat,enlever les résultats équivalents\n",
      "\n",
      "première filtrage des résultat:\n",
      "theta1----->\n",
      " [0.530924, 0.530924, 0.530924, 0.530924, 0.530924, 0.530924, 1.683374, 1.683375, 0.530923, 0.530924, 0.530924, 0.530924, 0.530924, 0.530924, 0.530924, 0.530923, 1.683373, 1.683374, 1.683373, 0.530924, 1.683374, 0.530924, 0.530924, 0.530924, 0.530923, 0.530924, 1.683374, 1.683374, 1.683374, 1.683374, 1.683373, 1.683374, 0.530924, 0.530924, 1.683374, 1.683374, 1.683374, 1.683374, 1.683374, 1.683373, 1.683374, 1.683372, 1.683374, 1.683372, 1.683374, 1.683374, 1.683374, 1.683375, 1.683374, 1.683374, 0.530924, 1.683373, 1.683374, 1.683374, 1.683374, 1.683374, 1.683374, 1.683374, 1.683374, 0.530924, 1.683373, 1.683374, 0.530924, 0.530923, 0.530924, 1.683376, 1.683374, 1.683372, 0.530924, 1.683373, 1.683374, 0.530924, 0.530924, 0.530924, 0.530924, 0.530924, 1.683374, 1.683373, 0.530926, 1.683374, 0.530924, 0.530924, 0.530923, 0.530924, 0.530924, 0.530925, 0.530924, 1.683375, 0.530924, 0.530924, 0.530924, 0.530924, 0.530924, 0.530924, 0.530924, 0.530924, 1.683374, 1.683375, 0.530924, 0.530924] \n",
      "theta2----->\n",
      " [0.94797, 0.94797, 0.947969, 0.94797, 0.947969, 0.94797, 5.335215, 5.335214, 0.94797, 0.94797, 0.947969, 0.94797, 0.94797, 0.94797, 0.94797, 0.94797, 5.335217, 5.335216, 5.335216, 0.94797, 5.335215, 0.94797, 0.94797, 0.94797, 0.94797, 0.94797, 5.335216, 5.335216, 5.335216, 5.335216, 5.335216, 5.335215, 0.94797, 0.94797, 5.335216, 5.335216, 5.335216, 5.335216, 5.335216, 5.335216, 5.335215, 5.335218, 5.335214, 5.335217, 5.335215, 5.335215, 5.335215, 5.335214, 5.335216, 5.335216, 0.94797, 5.335215, 5.335215, 5.335216, 5.335216, 5.335216, 5.335215, 5.335216, 5.335215, 0.94797, 5.335215, 5.335216, 0.94797, 0.947971, 0.94797, 5.335211, 5.335215, 5.335218, 0.94797, 5.335215, 5.335216, 0.947969, 0.94797, 0.94797, 0.94797, 0.94797, 5.335216, 5.335216, 0.947967, 5.335216, 0.94797, 0.94797, 0.947971, 0.94797, 0.94797, 0.947969, 0.94797, 5.335215, 0.94797, 0.94797, 0.94797, 0.94797, 0.947969, 0.94797, 0.947969, 0.94797, 5.335215, 5.335214, 0.94797, 0.94797]\n",
      "\n",
      "deuxième filtrage des résultat:\n",
      "theta1----->\n",
      " [0.530924, 1.683374] \n",
      "theta2----->\n",
      " [0.94797, 5.335215]\n",
      "\n",
      "\n",
      "----------------------------------------------------------------------------------------------------------\n",
      "\n",
      "solution possible trouvée par les points départ différents: [[0.530924, 0.94797], [1.683374, 5.335215]] \n",
      "la distace possible trouvée par les points départ différents: [3.5076299165151194e-12, 4.1474883964996586e-13]\n",
      "deux solutions possiblees [[0.530924, 0.94797], [1.683374, 5.335215]]\n",
      "vérification par modèle directe:\n",
      "point depart( [0.0, 0.0] )   ---> [0.530924, 0.94797] ---> [1.9999982178962612, 4.000000575965434]\n",
      "point depart( [0.0, 4.1887902047863905] )   ---> [1.683374, 5.335215] ---> [1.9999998906356913, 3.999999365343961]\n",
      "\n",
      "comment faut-il interpréter un minimum qui ne serait pas nul ?\n",
      "si le minimum n'est pas nul, ca veux dire,le position de P est hors de portée du bras robotique\n",
      "la methode par optimize.minimize\n",
      "\n",
      "\n",
      "les résultats résolu par minimize en 100 points départ:\n",
      "theta1----->\n",
      " [0.917559, 0.924366, 0.91965, 0.917915, 0.917631, 0.917825, 0.936827, 0.938479, 0.924574, 0.917559, 0.924637, 0.916645, 0.932173, 0.936471, 0.918499, 0.936532, 0.936545, 0.932768, 0.934004, 0.924637, 0.938046, 0.917321, 0.920599, 0.91764, 0.927778, 0.924702, 0.936083, 0.920317, 0.938062, 0.938046, 0.937557, 0.936587, 0.918137, 0.936616, 0.937372, 0.936469, 0.937328, 0.938048, 0.936008, 0.937557, 0.930009, 0.938051, 0.937893, 0.936609, 0.937725, 0.936112, 0.937618, 0.93783, 0.9354, 0.930009, 0.923113, 0.915446, 0.917825, 0.91791, 0.937519, 0.936522, 0.936422, 0.935261, 0.935642, 0.923113, 0.930004, 0.937199, 0.917864, 0.918233, 0.918335, 0.93667, 0.935497, 0.932057, 0.918412, 0.930003, 0.936648, 0.918734, 0.917237, 0.917134, 0.918372, 0.917689, 0.916552, 0.92014, 0.937954, 0.936648, 0.924875, 0.917537, 0.92482, 0.917495, 0.924174, 0.919018, 0.939564, 0.917736, 0.92456, 0.924875, 0.917559, 0.924366, 0.91965, 0.917915, 0.917631, 0.917825, 0.936827, 0.93848, 0.924574, 0.917559] \n",
      "theta2----->\n",
      " [0.016227, 0.004882, 0.012742, 0.015634, 0.016107, 0.015784, 6.267299, 6.264545, 0.004536, 0.016228, 0.004431, 0.017751, 6.275055, 6.267892, 0.014661, 6.267791, 6.267769, 6.274064, 6.272004, 0.004431, 6.265267, 0.016623, 0.01116, 0.016091, 6.282382, 0.004323, 6.268538, 0.01163, 6.265241, 6.265268, 6.266082, 6.267699, 0.015263, 6.267651, 6.26639, 6.267895, 6.266465, 6.265264, 6.268664, 6.266082, 6.278663, 6.26526, 6.265523, 6.267662, 6.265802, 6.268491, 6.265981, 6.265627, 6.269677, 6.278663, 0.00697, 0.019749, 0.015785, 0.015642, 6.266145, 6.267807, 6.267975, 6.269908, 6.269274, 0.00697, 6.278672, 6.266679, 0.015719, 0.015104, 0.014934, 6.267561, 6.269516, 6.27525, 0.014804, 6.278673, 6.267597, 0.014268, 0.016765, 0.016935, 0.014873, 0.01601, 0.017906, 0.011927, 6.265421, 6.267598, 0.004035, 0.016263, 0.004126, 0.016334, 0.005202, 0.013796, 6.262739, 0.015932, 0.00456, 0.004035, 0.016227, 0.004882, 0.012742, 0.015634, 0.016107, 0.015784, 6.267299, 6.264545, 0.004536, 0.016228]\n",
      "\n",
      "Et puis on doit filtrer ces résultat,enlever les résultats équivalents\n",
      "\n",
      "première filtrage des résultat:\n",
      "theta1----->\n",
      " [0.917559, 0.924366, 0.91965, 0.917915, 0.917631, 0.917825, 0.936827, 0.938479, 0.924574, 0.917559, 0.924637, 0.916645, 0.932173, 0.936471, 0.918499, 0.936532, 0.936545, 0.932768, 0.934004, 0.924637, 0.938046, 0.917321, 0.920599, 0.91764, 0.927778, 0.924702, 0.936083, 0.920317, 0.938062, 0.938046, 0.937557, 0.936587, 0.918137, 0.936616, 0.937372, 0.936469, 0.937328, 0.938048, 0.936008, 0.937557, 0.930009, 0.938051, 0.937893, 0.936609, 0.937725, 0.936112, 0.937618, 0.93783, 0.9354, 0.930009, 0.923113, 0.915446, 0.917825, 0.91791, 0.937519, 0.936522, 0.936422, 0.935261, 0.935642, 0.923113, 0.930004, 0.937199, 0.917864, 0.918233, 0.918335, 0.93667, 0.935497, 0.932057, 0.918412, 0.930003, 0.936648, 0.918734, 0.917237, 0.917134, 0.918372, 0.917689, 0.916552, 0.92014, 0.937954, 0.936648, 0.924875, 0.917537, 0.92482, 0.917495, 0.924174, 0.919018, 0.939564, 0.917736, 0.92456, 0.924875, 0.917559, 0.924366, 0.91965, 0.917915, 0.917631, 0.917825, 0.936827, 0.93848, 0.924574, 0.917559] \n",
      "theta2----->\n",
      " [0, 0, 0, 0, 0, 0, 0, 0, 0, 0, 0, 0, 0, 0, 0, 0, 0, 0, 0, 0, 0, 0, 0, 0, 0, 0, 0, 0, 0, 0, 0, 0, 0, 0, 0, 0, 0, 0, 0, 0, 0, 0, 0, 0, 0, 0, 0, 0, 0, 0, 0, 0, 0, 0, 0, 0, 0, 0, 0, 0, 0, 0, 0, 0, 0, 0, 0, 0, 0, 0, 0, 0, 0, 0, 0, 0, 0, 0, 0, 0, 0, 0, 0, 0, 0, 0, 0, 0, 0, 0, 0, 0, 0, 0, 0, 0, 0, 0, 0, 0]\n",
      "\n",
      "deuxième filtrage des résultat:\n",
      "theta1----->\n",
      " [0.917559] \n",
      "theta2----->\n",
      " [0]\n",
      "\n",
      "\n",
      "----------------------------------------------------------------------------------------------------------\n",
      "\n",
      "solution possible trouvée par les points départ différents: [[0.917559, 0]] \n",
      "la distace possible trouvée par les points départ différents: [0.0023698298038253227]\n",
      "solution unique: [0.917559, 0] vérification par modème directe: [3.0388020669314857, 3.9706022210759073]\n",
      "\n",
      "comment faut-il interpréter un minimum qui ne serait pas nul ?\n",
      "si le minimum n'est pas nul, ca veux dire,le position de P est hors de portée du bras robotique\n"
     ]
    }
   ],
   "source": [
    "##solution non-unique\n",
    "###projet_optimisation.solution_articulaire_2eme([5,8],[3,10])\n",
    "projet_optimisation.solution_articulaire_2eme([2,4],[2,3])\n",
    "##solution unique\n",
    "###projet_optimisation.solution_articulaire_2eme([5,12],[3,10])\n",
    "projet_optimisation.solution_articulaire_2eme([3,4],[2,3])\n",
    "##pas de solution\n",
    "###projet_optimisation.solution_articulaire_2eme([5,20],[3,10])\n",
    "###projet_optimisation.solution_articulaire_2eme([3,5],[2,3])"
   ]
  },
  {
   "cell_type": "markdown",
   "id": "72358b37-b580-41c1-9b09-8b078288b7f1",
   "metadata": {},
   "source": [
    "### *4.Troisième méthode : écrire le programme pour minimiser le carré de la norme du résidu en appliquant la méthode du gradient à pas fixe, avec un mécanisme qui garantit que la norme du résidu diminue à chaque itération*\n",
    "Dans cette méthode on a tester 400 points des point départ en utilisant gradient a pas fixé, et puis on donne un méthode de fitrer ces résultats pour distinguer le cas pas de solution,solution unique et solution non-unique,Le programme trouvera la solution correspondante parmi ces quatre cents points, s'il y a une solution, il trouvera une solution optimale et son point de départ correspondant(Nous avons écrit une méthode précise dans le programme pour suivre le point de départ, c'est-à-dire que nous pouvons clairement savoir quel est le point de départ correspondant à la solution optimale(theta1,theta2)obtenue par le programme), s'il y a deux solution, il trouvera deux solution optimale et son point de départ correspondants, s'il y a pas de solution, il trouvera une  solution qui est le plus proche a la pose donnée.\n",
    "#### vou pouvez vérifier les trois cas en décommentant les fonctions suivantes"
   ]
  },
  {
   "cell_type": "code",
   "execution_count": 4,
   "id": "6345ffdc-f392-4baf-9059-544cbdff0809",
   "metadata": {},
   "outputs": [
    {
     "name": "stdout",
     "output_type": "stream",
     "text": [
      "la méthode de gradient a pas fixé avec alpha choisi---> 0.001  et le nombre d'itération max---> 1000\n",
      "\n",
      "veuillez patienter, les donneés en train de chargement, la compilation peut prendre jusqu'a trois minute\n"
     ]
    },
    {
     "name": "stdin",
     "output_type": "stream",
     "text": [
      "veuillez taper 'yes' si vous voulez afficher les resultats de methode gradient a pas fix sinon taper'no'---> yes\n"
     ]
    },
    {
     "name": "stdout",
     "output_type": "stream",
     "text": [
      "\n",
      "les résultats résolu par methode gradient a pas fixe en 400 points départ:\n",
      "\n",
      "theta----->\n",
      " [[2.837411, 4.390176], [2.837412, 4.390175], [5.943867, 1.893008], [2.837408, 4.390179], [5.943863, 1.893011], [5.943861, 1.893014], [5.943861, 1.893014], [2.837406, 4.39018], [2.837405, 4.390182], [5.943859, 1.893016], [2.837404, 4.390183], [2.837403, 4.390184], [5.943857, 1.893017], [2.83742, 4.390167], [2.837402, 4.390185], [5.943855, 1.893019], [2.8374, 4.390186], [5.943877, 1.892999], [5.943853, 1.893022], [2.837425, 4.390163], [2.837398, 4.390189], [5.943851, 1.893023], [5.943882, 1.892994], [2.837428, 4.39016], [5.943883, 1.892993], [5.943848, 1.893026], [5.943884, 1.892992], [5.943884, 1.892992], [5.943847, 1.893027], [2.83743, 4.390158], [5.943885, 1.892991], [5.943885, 1.892991], [5.943885, 1.892991], [5.943885, 1.892991], [5.943886, 1.89299], [2.837433, 4.390155], [5.943888, 1.892988], [5.943842, 1.893032], [2.837436, 4.390152], [2.837438, 4.39015], [5.943837, 1.893037], [2.83744, 4.390148], [5.943836, 1.893037], [5.943836, 1.893037], [2.837379, 4.390206], [2.837379, 4.390206], [2.837379, 4.390206], [2.837379, 4.390207], [5.943833, 1.893041], [2.837378, 4.390207], [2.837378, 4.390207], [2.837377, 4.390208], [2.837377, 4.390208], [2.837376, 4.390209], [2.837447, 4.390141], [5.943829, 1.893044], [2.837448, 4.390141], [5.943903, 1.892974], [2.837449, 4.39014], [5.943906, 1.892971], [5.943825, 1.893048], [2.83737, 4.390214], [2.83737, 4.390215], [5.943907, 1.89297], [5.943908, 1.892969], [2.837454, 4.390135], [5.943909, 1.892968], [5.943909, 1.892968], [5.943822, 1.893051], [5.94391, 1.892967], [5.943821, 1.893052], [5.943911, 1.892966], [5.943913, 1.892965], [2.837459, 4.390131], [5.943915, 1.892963], [2.837361, 4.390223], [5.943814, 1.893059], [2.837464, 4.390126], [2.837358, 4.390226], [5.943811, 1.893061], [5.943811, 1.893061], [2.837356, 4.390228], [5.94381, 1.893062], [5.943922, 1.892956], [5.943922, 1.892956], [5.943922, 1.892956], [2.837354, 4.39023], [2.837469, 4.390121], [2.837353, 4.390231], [2.83747, 4.39012], [5.943805, 1.893066], [2.837351, 4.390233], [5.943927, 1.892951], [5.943804, 1.893068], [2.837349, 4.390235], [2.837348, 4.390236], [5.943929, 1.892949], [2.837475, 4.390115], [5.94393, 1.892948], [5.9438, 1.893072], [2.837345, 4.390238], [5.943933, 1.892946], [5.943797, 1.893074], [2.83748, 4.39011], [5.943935, 1.892944], [5.943935, 1.892944], [2.837482, 4.390109], [2.837339, 4.390244], [5.943938, 1.892941], [2.837485, 4.390106], [2.837337, 4.390246], [2.837337, 4.390246], [5.943791, 1.89308], [5.943941, 1.892939], [2.837334, 4.390249], [5.943945, 1.892935], [5.943945, 1.892934], [2.837491, 4.3901], [2.837491, 4.3901], [2.837331, 4.390252], [5.943784, 1.893086], [5.943784, 1.893086], [5.943784, 1.893087], [2.837328, 4.390255], [5.943952, 1.892928], [2.837325, 4.390258], [2.837499, 4.390093], [5.943954, 1.892927], [5.943954, 1.892926], [2.837323, 4.39026], [2.8375, 4.390092], [2.837321, 4.390261], [5.943956, 1.892923], [5.943774, 1.893096], [5.943959, 1.892921], [5.94396, 1.89292], [5.94396, 1.89292], [5.943771, 1.893099], [2.837316, 4.390266], [2.837507, 4.390085], [2.837509, 4.390083], [2.837313, 4.390269], [2.837313, 4.390269], [5.943964, 1.892916], [5.943964, 1.892916], [2.837513, 4.390079], [5.943969, 1.892912], [2.837307, 4.390275], [2.837306, 4.390275], [2.837306, 4.390275], [2.837516, 4.390076], [5.94376, 1.89311], [5.943973, 1.892908], [5.943758, 1.893112], [5.943757, 1.893112], [5.943757, 1.893112], [5.943975, 1.892906], [2.837302, 4.39028], [5.943754, 1.893115], [5.943753, 1.893115], [2.837297, 4.390284], [5.943981, 1.8929], [5.94375, 1.893119], [2.837529, 4.390065], [2.837293, 4.390288], [2.83753, 4.390063], [5.943985, 1.892897], [5.943985, 1.892897], [2.837291, 4.390289], [5.943987, 1.892894], [5.943739, 1.89313], [2.837284, 4.390296], [5.943993, 1.892889], [5.943993, 1.892888], [5.943737, 1.893132], [5.943736, 1.893132], [2.837281, 4.390299], [2.837542, 4.390052], [5.943998, 1.892884], [5.943733, 1.893135], [5.944, 1.892882], [5.944, 1.892882], [2.837547, 4.390048], [2.837275, 4.390305], [2.837273, 4.390306], [2.837273, 4.390307], [2.837273, 4.390307], [5.943725, 1.893143], [5.944007, 1.892876], [5.944008, 1.892875], [5.944008, 1.892875], [2.837555, 4.39004], [2.837267, 4.390312], [2.837557, 4.390038], [2.837265, 4.390314], [2.837262, 4.390317], [5.944016, 1.892868], [5.943714, 1.893153], [5.944018, 1.892865], [2.837258, 4.390321], [5.94402, 1.892864], [5.94402, 1.892863], [2.837254, 4.390324], [2.837569, 4.390026], [5.944027, 1.892857], [2.837248, 4.39033], [5.943702, 1.893164], [5.943702, 1.893164], [2.837575, 4.390021], [2.837246, 4.390332], [2.837578, 4.390018], [5.944035, 1.892849], [5.943696, 1.89317], [5.944036, 1.892848], [2.83724, 4.390338], [2.837587, 4.390009], [2.837234, 4.390343], [2.837234, 4.390343], [5.943688, 1.893178], [2.837589, 4.390007], [5.944046, 1.892839], [5.944047, 1.892837], [5.944048, 1.892837], [2.837228, 4.390349], [2.837226, 4.390351], [2.837598, 4.389999], [5.943679, 1.893187], [5.944053, 1.892832], [5.944058, 1.892827], [2.837216, 4.39036], [5.944063, 1.892823], [5.944063, 1.892822], [5.944063, 1.892822], [5.944068, 1.892818], [2.837207, 4.390369], [5.943657, 1.893207], [2.837202, 4.390373], [2.83762, 4.389978], [2.837201, 4.390375], [2.837199, 4.390376], [2.837624, 4.389975], [5.943653, 1.893211], [5.943651, 1.893212], [5.944083, 1.892804], [2.837193, 4.390382], [2.837193, 4.390382], [5.944085, 1.892802], [5.943646, 1.893218], [2.837633, 4.389966], [5.944092, 1.892795], [2.837184, 4.390391], [2.837184, 4.390391], [5.943638, 1.893225], [5.944096, 1.892791], [2.83718, 4.390394], [2.837644, 4.389955], [5.944099, 1.892788], [5.943624, 1.893238], [5.943621, 1.893241], [2.837161, 4.390413], [5.944122, 1.892767], [5.944122, 1.892767], [5.944122, 1.892767], [5.944122, 1.892767], [5.944123, 1.892766], [2.837152, 4.390421], [2.837151, 4.390422], [2.837676, 4.389925], [2.837677, 4.389924], [5.943597, 1.893264], [2.837139, 4.390433], [5.94359, 1.893271], [5.944148, 1.892742], [5.94415, 1.89274], [5.94416, 1.892731], [2.837706, 4.389896], [2.837114, 4.390457], [5.943568, 1.893291], [2.83711, 4.39046], [2.83711, 4.39046], [5.94356, 1.893299], [2.837719, 4.389884], [2.83772, 4.389883], [5.944176, 1.892716], [2.837722, 4.389882], [5.943552, 1.893306], [2.837727, 4.389877], [2.837091, 4.390479], [5.944192, 1.8927], [2.837077, 4.390492], [5.944202, 1.892691], [5.944207, 1.892687], [5.944213, 1.892681], [5.944213, 1.892681], [2.837063, 4.390505], [5.944216, 1.892677], [2.837764, 4.389841], [2.837052, 4.390515], [5.943504, 1.893351], [5.943497, 1.893358], [2.837037, 4.39053], [2.837788, 4.38982], [5.944253, 1.892643], [2.837799, 4.389809], [2.837023, 4.390543], [2.837023, 4.390543], [2.837018, 4.390547], [5.94426, 1.892636], [2.837809, 4.389799], [2.837011, 4.390555], [2.837008, 4.390558], [5.944272, 1.892625], [5.944273, 1.892625], [5.944276, 1.892621], [2.837823, 4.389786], [5.943442, 1.89341], [2.836985, 4.390579], [2.836985, 4.390579], [5.943439, 1.893414], [2.837847, 4.389763], [5.94431, 1.892589], [2.836946, 4.390615], [5.944334, 1.892566], [5.943396, 1.893454], [2.837892, 4.389721], [2.836928, 4.390633], [2.837916, 4.389698], [5.94336, 1.893488], [2.836897, 4.390662], [5.944387, 1.892516], [5.944387, 1.892516], [5.944417, 1.892488], [5.943292, 1.893553], [5.943285, 1.893559], [2.83683, 4.390726], [2.837997, 4.389622], [2.836821, 4.390735], [5.944465, 1.892442], [2.838011, 4.389608], [5.943253, 1.893589], [5.943245, 1.893597], [5.943234, 1.893607], [5.94452, 1.892391], [2.838124, 4.389501], [2.836688, 4.39086], [2.836688, 4.390861], [2.838138, 4.389488], [2.836679, 4.390868], [5.944607, 1.892308], [5.943117, 1.893718], [5.94464, 1.892276], [5.943049, 1.893782], [5.943033, 1.893797], [5.943022, 1.893808], [2.838275, 4.389358], [2.836547, 4.390994], [2.838379, 4.38926], [5.942881, 1.893941], [2.836404, 4.391128], [5.944886, 1.892044], [5.944886, 1.892044], [2.838447, 4.389196], [5.944935, 1.891997], [5.944935, 1.891997], [2.836337, 4.391192], [2.836337, 4.391192], [5.942786, 1.894031], [2.838645, 4.389008], [2.836043, 4.39147], [5.945237, 1.891711], [5.942481, 1.89432], [5.945316, 1.891637], [2.839005, 4.388668], [5.942241, 1.894546], [5.945518, 1.891445], [2.839292, 4.388397], [5.941979, 1.894794], [5.94576, 1.891216], [2.839501, 4.388199], [2.839598, 4.388107], [2.835183, 4.392285], [2.839773, 4.387941], [5.941443, 1.895301], [2.84031, 4.387434], [2.834302, 4.393119], [2.834302, 4.393119], [5.940471, 1.896221], [2.841047, 4.386737], [5.939967, 1.896697], [5.948359, 1.888754], [2.832894, 4.394454], [2.842711, 4.385165], [2.829388, 4.397777], [2.845797, 4.382251], [2.84787, 4.380295], [5.955836, 1.881661], [2.823404, 4.403459], [5.92849, 1.907524], [5.923804, 1.911934], [2.875534, 4.354314]] \n",
      "\n",
      "racinne du residus possible----->\n",
      " [8.479955349113916e-07, 2.269514203412671e-06, 5.071944102058179e-06, 9.768535617341634e-06, 1.2093190202883723e-05, 1.3423255061047393e-05, 1.3423255061047393e-05, 1.5545333409507757e-05, 1.8765112832976944e-05, 1.9382210208817138e-05, 2.176460074749942e-05, 2.476421267501516e-05, 2.4873730124878922e-05, 2.6241253788238e-05, 2.7763908423863404e-05, 3.033459474392022e-05, 3.192288103838704e-05, 3.2446068337071015e-05, 3.733803275183866e-05, 3.932760606941778e-05, 3.9763150212701515e-05, 4.1703203662586684e-05, 4.71596688615044e-05, 4.8093167654934086e-05, 5.012276835186645e-05, 5.042205517173755e-05, 5.3090013117637945e-05, 5.3090013117637945e-05, 5.3349092418420214e-05, 5.3979754818012916e-05, 5.606074494831254e-05, 5.606074494831254e-05, 5.606074494831254e-05, 5.606074494831254e-05, 5.903443741822917e-05, 6.28498625184458e-05, 6.498907825278757e-05, 6.807962036845898e-05, 7.175232382996557e-05, 7.769978238722771e-05, 8.290682753574175e-05, 8.365474376780515e-05, 8.456836932174988e-05, 8.456836932174988e-05, 9.232092755952258e-05, 9.232092755952258e-05, 9.232092755952258e-05, 9.403739220879731e-05, 9.480773543512216e-05, 9.526135421805343e-05, 9.526135421805343e-05, 9.820538509048166e-05, 9.820538509048166e-05, 0.0001011527054784275, 0.00010453766877288067, 0.00010504752972159649, 0.00010569022047949662, 0.00010774015654475278, 0.00010864092274052142, 0.00011663500064357959, 0.00011683294721145606, 0.00011766241286784011, 0.00011889198946495308, 0.00011960344585889936, 0.00012257342799316487, 0.00012343008263703394, 0.00012554483797087254, 0.00012554483797087254, 0.00012569865464703213, 0.00012851757675423587, 0.0001286580335822659, 0.00013149155422071592, 0.00013583468425541133, 0.00013680995520046278, 0.00014172363952210973, 0.00014402647703216996, 0.00014941904456093822, 0.0001515060383496591, 0.00015286385014203431, 0.00015675373143142688, 0.00015675373143142688, 0.00015876558585432255, 0.0001596980456409216, 0.00016239903003050917, 0.00016239903003050917, 0.00016239903003050917, 0.00016467442575395197, 0.00016625640181999754, 0.00016763127504492543, 0.000169211739915012, 0.00017326161261066865, 0.00017354941840687995, 0.00017721392356534878, 0.0001774031080406552, 0.00017947299952870543, 0.0001824366637433306, 0.00018314832164433004, 0.00018401010631042625, 0.00018611709880558667, 0.00018923739167640822, 0.0001898501536443768, 0.00019343459933655825, 0.00019669624433105645, 0.0001988386813432837, 0.00019933260283777672, 0.00019933260283777672, 0.00020321524736601447, 0.00020752489529839532, 0.00020819054176116446, 0.00021206056468387027, 0.00021342856201068887, 0.00021342856201068887, 0.00021435431438085418, 0.00021573992212976236, 0.0002222937384209146, 0.00022748367653037383, 0.00022890218698080195, 0.00022978722669137787, 0.00022978722669137787, 0.0002311693388605063, 0.0002337161257829986, 0.0002337161257829986, 0.00023502095092336962, 0.0002400542070965991, 0.0002480942855246581, 0.0002489473508385931, 0.0002519785301269056, 0.0002527745677948507, 0.00025399475293371506, 0.0002548802830969636, 0.0002549246685673401, 0.00025923626135577224, 0.00026154202970452993, 0.0002631167248561786, 0.0002687652122573264, 0.0002717223235189869, 0.0002717223235189869, 0.00027196242417738207, 0.000274000745564779, 0.000275580165476306, 0.00028149109528439017, 0.0002828713374957184, 0.0002828713374957184, 0.00028355978373140444, 0.00028355978373140444, 0.0002933237997911259, 0.0002968573636054608, 0.0003006356120154231, 0.0003021022119410237, 0.0003021022119410237, 0.0003022069814060685, 0.0003044740021950126, 0.00030865750726361896, 0.00031039626747990146, 0.00031187946732438675, 0.00031187946732438675, 0.0003145632527858721, 0.00031545960175016286, 0.0003207224944977245, 0.0003224327108515102, 0.00032866424798613683, 0.00033230076371000436, 0.00033252629268032234, 0.00033773416296322605, 0.0003404917255084452, 0.00034206608053097325, 0.00034267446734784093, 0.00034267446734784093, 0.00034497578682990394, 0.0003500650896689378, 0.00036505267090732263, 0.00036560990916499, 0.0003662734174466029, 0.00036785234582490154, 0.0003709755397332211, 0.0003724320997304195, 0.0003744655654348495, 0.00037604301160823315, 0.00038104821873619315, 0.0003812830205632791, 0.0003869629945873223, 0.0003869629945873223, 0.0003894389329640922, 0.0003921966068481707, 0.0003966862762414627, 0.0003981123222997722, 0.0003981123222997722, 0.0004049175858966798, 0.00040617912671831743, 0.0004091293206530962, 0.0004091293206530962, 0.00041300077275187715, 0.0004143715544861699, 0.0004188990005515572, 0.00042027259002549647, 0.000429129293409395, 0.0004313715170143912, 0.00043594351039439775, 0.0004386684463137888, 0.00044094726538458623, 0.00044315088770204806, 0.0004445836839915679, 0.00045134328596854034, 0.00045434429723533153, 0.00046379202754784105, 0.0004690337393462149, 0.0004699539018905363, 0.0004699539018905363, 0.0004706082448798436, 0.0004749357307506532, 0.0004794602869795358, 0.00048741947443047906, 0.0004876521507389263, 0.000490375451780446, 0.0004926559242185542, 0.0005060477041946789, 0.0005089495881389445, 0.0005089495881389445, 0.0005112825615511106, 0.0005119618783109051, 0.0005184551958731495, 0.0005229243281673429, 0.0005243591331738787, 0.0005266475952663162, 0.0005325514337398065, 0.0005370726570385606, 0.0005379058560839804, 0.0005391282652021891, 0.0005539098176349408, 0.0005606619546101987, 0.0005672163119550846, 0.0005687028219954165, 0.0005687028219954165, 0.0005819761387714529, 0.0005872154913026036, 0.0005999247432548405, 0.0006005861366378773, 0.0006005929567507979, 0.0006049398305060907, 0.0006094266409849566, 0.0006109933434811273, 0.0006117386268677037, 0.0006162383862184842, 0.0006248308728439508, 0.0006271212765904825, 0.0006271212765904825, 0.0006307348242960467, 0.0006324297673320167, 0.0006375370162695907, 0.0006514124929367845, 0.0006536945301052286, 0.0006536945301052286, 0.000654584959540715, 0.0006632374089653904, 0.0006640872480189047, 0.0006700287506287331, 0.0006721101741674802, 0.0006944859347040743, 0.0007033401808422242, 0.0007201805014287997, 0.0007371112222501224, 0.0007371112222501224, 0.0007371112222501224, 0.0007371112222501224, 0.0007400637857986541, 0.0007453036474646176, 0.0007482561700944759, 0.0007616201317665281, 0.0007645740319302861, 0.0007727654509246574, 0.0007822599109219933, 0.0007934520433287211, 0.0008124521403062962, 0.0008183626694064527, 0.0008464408205122374, 0.0008487910865107638, 0.0008546332698245921, 0.0008555115977476256, 0.0008650437866142716, 0.0008650437866142716, 0.0008791313178981604, 0.0008857127810520978, 0.0008886682665363688, 0.0008922490192039282, 0.0008931259980864021, 0.0009013177254020886, 0.0009078820013226149, 0.0009211118791493994, 0.0009395175154182817, 0.0009610110819876488, 0.0009675852197001656, 0.000980921263318827, 0.00099862716539399, 0.00099862716539399, 0.0010009166751663268, 0.0010089685301719303, 0.0010157247265660083, 0.0010319791168441153, 0.001038744187090458, 0.0010593903109331678, 0.0010762483451787856, 0.0010822597471077057, 0.0011138628165701908, 0.001114709383456452, 0.0011161506585636808, 0.0011161506585636808, 0.0011295098127706686, 0.0011345374932028726, 0.001144236315960558, 0.0011515939408897613, 0.001160460128367303, 0.0011685288192593481, 0.0011700829058982841, 0.001180341730405612, 0.0011841282707065386, 0.0012174613686366808, 0.0012254824904550715, 0.0012254824904550715, 0.0012277690562870476, 0.0012535536482059927, 0.0012778614488710201, 0.0013363687528533022, 0.0013472956379209718, 0.0013503887504995329, 0.0013820947120492216, 0.0013894818949101505, 0.001451512830282727, 0.0014537991782644247, 0.0014781510264060228, 0.001499482391644117, 0.001499482391644117, 0.0015851953612449339, 0.0016502580270109015, 0.0016694750558743923, 0.001671678085011418, 0.0016834740162283391, 0.0016982661080910094, 0.0017240607624090052, 0.001724798560592796, 0.001761076288970136, 0.0017846934097491512, 0.0018157322142488476, 0.0018807336156802408, 0.0020497829280042516, 0.0020794965441590157, 0.002080947255439617, 0.002089675168578257, 0.0021046474351268125, 0.0021318777462425594, 0.00215252135393633, 0.002227899025216459, 0.0023475242575009313, 0.002393323974688538, 0.002425795071818298, 0.0024840699434859536, 0.002485810276782538, 0.002782465924110506, 0.0028305497053766047, 0.0028951807859823107, 0.0029342194873665335, 0.0029342194873665335, 0.002977461256641163, 0.003076050899115501, 0.003076050899115501, 0.0030887137243423212, 0.0030887137243423212, 0.0031038108475650934, 0.0035475918767944683, 0.003933967742808413, 0.0039449270711137815, 0.003981171569433732, 0.004171049355383831, 0.004581526294629788, 0.004669495844709168, 0.004753262160086025, 0.00540567955105008, 0.005422722254687075, 0.005449321765043707, 0.006006751924798888, 0.006285862887100251, 0.006409298371630782, 0.0067894339489294655, 0.00696305394969506, 0.008331149968902269, 0.00894416751739409, 0.00894416751739409, 0.00975681825945813, 0.010448509285801067, 0.01120375472923802, 0.012930377374684684, 0.012999190746020779, 0.015225640946009774, 0.02309887850730922, 0.0240793792292211, 0.030021925882937426, 0.03448536262165261, 0.04036541941355293, 0.04409953642309299, 0.05749520953945046, 0.10892397651259154]\n",
      "\n",
      "pour la pose---> [3, 9] et les longuer des bras---> [3, 10]   les resultats d'analyse finale par methode gradient sont:\n",
      "\n",
      "apres de le filtrage des valeurs équivalents\n",
      "theta---->\n",
      " [[2.837411, 4.390176], [5.943867, 1.893008]] \n",
      "la valeur de racinne de residus---> [8.479955349113916e-07, 5.071944102058179e-06]\n",
      "\n",
      "les solutions posisbles trouvées---> [[2.837411, 4.390176], [5.943867, 1.893008]] \n",
      "\n",
      "solution non_uniques!\n",
      "premiere solution nous donne---> point depart( [1.6534698176788385, 2.9762456718219092] )---> [2.837411, 4.390176]   vérification par modèle geometrique---> [2.9999998718690026, 9.000000838259432]\n",
      "deuxieme solution nous donne---> point depart( [0.6613879270715354, 2.9762456718219092] )---> [5.943867, 1.893008]   vérification par modèle geometrique---> [3.0000033431260706, 9.000003814200447]\n"
     ]
    }
   ],
   "source": [
    "##solution non-unique\n",
    "###projet_optimisation.solution_articulaire_3eme([1,4],[2,3],0.01,1000)\n",
    "projet_optimisation.solution_articulaire_3eme([3,9],[3,10],0.001,1000)\n",
    "##solution unique\n",
    "###projet_optimisation.solution_articulaire_3eme([3,4],[2,3],0.01,1000)\n",
    "###projet_optimisation.solution_articulaire_3eme([5,12],[3,10],0.001,1000)\n",
    "##pas de solution\n",
    "###projet_optimisation.solution_articulaire_3eme([3,5],[2,3],0.01,1000)\n",
    "###projet_optimisation.solution_articulaire_3eme([5,13],[3,10],0.001,1000)"
   ]
  },
  {
   "cell_type": "markdown",
   "id": "1521670e-172a-4fda-8a5c-ca8a38fc48b4",
   "metadata": {},
   "source": [
    "### *5.Quatrième méthode : écrire le programme pour minimiser le carré de la norme du résidu en appliquant la méthode de Newton.*\n",
    "Dans cette méthode on a tester 400 points des point départ en utilisant méthode, et puis on donne un méthode de fitrer ces résultats pour distinguer le cas pas de solution,solution unique et solution non-unique, pareil comme la méthode gradient,s'il y a une solution, il trouvera une solution optimale et son point de départ correspondant(Nous avons écrit une méthode précise dans le programme pour suivre le point de départ, c'est-à-dire que nous pouvons clairement savoir quel est le point de départ correspondant à la solution optimale(theta1,theta2)obtenue par le programme), s'il y a deux solution, il trouvera deux solution optimale et son point de départ correspondants, s'il y a pas de solution, il trouvera une  solution qui est le plus proche a la pose donnée.\n",
    "#### vou pouvez vérifier les trois cas en décommentant les fonctions suivantes"
   ]
  },
  {
   "cell_type": "code",
   "execution_count": 6,
   "id": "59d3719b-8fce-4d2c-8edb-f67600c1a249",
   "metadata": {},
   "outputs": [
    {
     "name": "stdout",
     "output_type": "stream",
     "text": [
      "la methode de newton avec la précision choisi---> 0.01 et le nombre d'itération max---> 1000\n",
      "\n",
      "veuillez patienter, les donneés en train de chargement, la compilation peut prendre jusqu'a trois minute\n"
     ]
    },
    {
     "name": "stdin",
     "output_type": "stream",
     "text": [
      "veuillez taper 'yes' si vous voulez afficher les resultats de methode newton sinon taper 'no'---> yes\n"
     ]
    },
    {
     "name": "stdout",
     "output_type": "stream",
     "text": [
      "\n",
      "les résultats résolu par methode newton en 400 points départ:\n",
      "\n",
      "theta----->\n",
      " [[2.081787, 5.052226], [2.081787, 5.052226], [2.081787, 5.052226], [2.081787, 5.052226], [2.081787, 5.052226], [2.081787, 5.052226], [2.081787, 5.052226], [2.081787, 5.052226], [2.081787, 5.052226], [2.081787, 5.052226], [2.081787, 5.052226], [2.081787, 5.052226], [2.081787, 5.052226], [2.081787, 5.052226], [2.081787, 5.052226], [2.081787, 5.052226], [2.081787, 5.052226], [0.569848, 1.23096], [0.569848, 1.23096], [0.569848, 1.23096], [0.569848, 1.23096], [0.569848, 1.23096], [0.569848, 1.23096], [0.569848, 1.23096], [0.569848, 1.23096], [0.569848, 1.23096], [0.569848, 1.23096], [0.569848, 1.23096], [0.569848, 1.23096], [0.569848, 1.23096], [0.569848, 1.23096], [2.081788, 5.052225], [2.081788, 5.052225], [0.569849, 1.230959], [0.569849, 1.230959], [0.569849, 1.230959], [0.569849, 1.230959], [0.569848, 1.230959], [0.569848, 1.230959], [0.569848, 1.230959], [0.569848, 1.230959], [0.569848, 1.230959], [0.569848, 1.230959], [2.081788, 5.052224], [2.081787, 5.052225], [0.569848, 1.230961], [0.569847, 1.230962], [2.081789, 5.052223], [0.569849, 1.23096], [0.569846, 1.230964], [0.569852, 1.230955], [0.569844, 1.230965], [2.08179, 5.052219], [2.08179, 5.052219], [0.569847, 1.230965], [0.569842, 1.230969], [0.569849, 1.230953], [2.081795, 5.052213], [2.081797, 5.052211], [0.56984, 1.230974], [0.56984, 1.230974], [2.081798, 5.052209], [2.0818, 5.052205], [0.569833, 1.230983], [2.081802, 5.052202], [2.081803, 5.052201], [2.081798, 5.0522], [0.569823, 1.231001], [0.569816, 1.231013], [0.569813, 1.231015], [2.081822, 5.05217], [0.56981, 1.231022], [2.08181, 5.052224], [0.569806, 1.231028], [2.081837, 5.052148], [0.56991, 1.230855], [1.325817, 1e-06], [1.325816, 2e-06], [1.325818, 6.283185], [1.325818, 6.283185], [1.325818, 6.283185], [1.325818, 6.283185], [1.325818, 6.283185], [1.325818, 6.283185], [1.325818, 6.283185], [1.325818, 6.283185], [1.325818, 6.283185], [1.325818, 6.283185], [1.325818, 6.283185], [1.325818, 6.283185], [1.325818, 6.283185], [1.325818, 0.0], [1.325818, 0.0], [1.325818, 0.0], [1.325818, 0.0], [1.325818, 0.0], [1.325818, 0.0], [1.325818, 0.0], [1.325818, 0.0], [1.325818, 0.0], [1.325818, 0.0], [1.325818, 0.0], [1.325818, 0.0], [1.325818, 0.0], [1.325818, 0.0], [1.325818, 0.0], [1.325818, 0.0], [1.325818, 0.0], [1.325818, 0.0], [1.325818, 0.0], [1.325818, 0.0], [1.325818, 0.0], [1.325818, 0.0], [1.325818, 0.0], [1.325818, 0.0], [1.325818, 0.0], [1.325818, 0.0], [1.325818, 0.0], [1.325818, 0.0], [1.325818, 0.0], [1.325818, 0.0], [1.325818, 0.0], [1.325818, 0.0], [1.325818, 0.0], [1.325818, 0.0], [1.325819, 6.283184], [1.325819, 6.283184], [1.325817, 0.0], [1.325817, 0.0], [1.32582, 6.283183], [1.325817, 6.283185], [1.32582, 6.283184], [1.32582, 6.283184], [1.32582, 0.0], [1.32582, 0.0], [1.325815, 6.283185], [4.467407, 3.141596], [4.467411, 3.141592], [4.467411, 3.141592], [4.467411, 3.141592], [4.467411, 3.141592], [4.467411, 3.141592], [4.467411, 3.141592], [4.46741, 3.141593], [4.46741, 3.141593], [4.46741, 3.141593], [4.46741, 3.141593], [4.46741, 3.141593], [4.46741, 3.141593], [4.46741, 3.141593], [4.46741, 3.141593], [4.46741, 3.141593], [4.46741, 3.141593], [4.46741, 3.141593], [4.46741, 3.141593], [4.46741, 3.141593], [4.46741, 3.141593], [4.46741, 3.141593], [4.46741, 3.141593], [4.46741, 3.141593], [4.46741, 3.141593], [4.46741, 3.141593], [4.46741, 3.141593], [4.46741, 3.141593], [4.46741, 3.141593], [4.46741, 3.141593], [4.46741, 3.141593], [4.46741, 3.141593], [4.46741, 3.141593], [4.46741, 3.141593], [4.46741, 3.141593], [4.46741, 3.141593], [4.46741, 3.141593], [4.46741, 3.141593], [4.46741, 3.141593], [4.46741, 3.141593], [4.46741, 3.141593], [4.46741, 3.141593], [4.46741, 3.141593], [4.46741, 3.141593], [4.46741, 3.141593], [4.46741, 3.141593], [4.46741, 3.141593], [4.46741, 3.141593], [4.46741, 3.141593], [4.46741, 3.141593], [4.46741, 3.141593], [4.46741, 3.141593], [4.46741, 3.141593], [4.46741, 3.141593], [4.46741, 3.141593], [4.46741, 3.141593], [4.46741, 3.141593], [4.46741, 3.141593], [4.46741, 3.141593], [4.46741, 3.141593], [4.46741, 3.141593], [4.46741, 3.141593], [4.46741, 3.141593], [4.46741, 3.141593], [4.46741, 3.141593], [4.46741, 3.141593], [4.46741, 3.141593], [4.46741, 3.141593], [4.46741, 3.141593], [4.46741, 3.141593], [4.467411, 3.141593], [4.46741, 3.141592], [4.46741, 3.141592], [4.46741, 3.141592], [4.46741, 3.141592], [4.467407, 3.141597], [4.467409, 3.141596], [1.325818, 3.141594], [1.325819, 3.141593], [1.325819, 3.141593], [1.325819, 3.141593], [1.325817, 3.141592], [1.325818, 3.141593], [1.325818, 3.141593], [1.325818, 3.141593], [1.325818, 3.141593], [1.325818, 3.141593], [1.325818, 3.141593], [1.325818, 3.141593], [1.325818, 3.141593], [1.325818, 3.141593], [1.325818, 3.141593], [1.325818, 3.141593], [1.325818, 3.141593], [1.325818, 3.141593], [1.325818, 3.141593], [1.325818, 3.141593], [1.325818, 3.141593], [1.325818, 3.141593], [1.325818, 3.141593], [1.325818, 3.141593], [1.325818, 3.141593], [1.325818, 3.141593], [1.325818, 3.141593], [1.325818, 3.141593], [1.325818, 3.141593], [1.325818, 3.141593], [1.325818, 3.141593], [1.325818, 3.141593], [1.325818, 3.141593], [1.325818, 3.141593], [1.325818, 3.141593], [1.325818, 3.141593], [1.325818, 3.141593], [1.325818, 3.141593], [1.325818, 3.141593], [1.325818, 3.141593], [1.325818, 3.141593], [1.325818, 3.141593], [1.325818, 3.141593], [1.325818, 3.141593], [1.325818, 3.141593], [1.325818, 3.141593], [1.325818, 3.141593], [1.325818, 3.141593], [1.325818, 3.141593], [1.325818, 3.141593], [1.325818, 3.141593], [1.325818, 3.141593], [1.325818, 3.141593], [1.325818, 3.141593], [1.325818, 3.141593], [1.325818, 3.141593], [1.325818, 3.141593], [1.325818, 3.141593], [1.325818, 3.141593], [1.325818, 3.141593], [1.325818, 3.141593], [1.325818, 3.141593], [1.325818, 3.141593], [1.325818, 3.141593], [1.325818, 3.141593], [1.325818, 3.141593], [1.325818, 3.141592], [1.325818, 3.141592], [1.325818, 3.141592], [1.325818, 3.141592], [1.325818, 3.141592], [1.325818, 3.141592], [1.325818, 3.141592], [1.325818, 3.141592], [1.325817, 3.141593], [1.325817, 3.141593], [1.325817, 3.141593], [1.325817, 3.141594], [1.325819, 3.141591], [1.325816, 3.141594], [1.32582, 3.141589], [1.325823, 3.141587], [1.325835, 3.141568], [4.467399, 1.4e-05], [4.467408, 2e-06], [4.467408, 2e-06], [4.467412, 6.283183], [4.467411, 1e-06], [4.467409, 0.0], [4.467412, 6.283184], [4.467412, 6.283184], [4.467412, 6.283184], [4.467409, 1e-06], [4.46741, 1e-06], [4.46741, 1e-06], [4.46741, 1e-06], [4.46741, 1e-06], [4.467411, 0.0], [4.467411, 0.0], [4.467411, 0.0], [4.46741, 6.283185], [4.46741, 6.283185], [4.46741, 6.283185], [4.46741, 6.283185], [4.46741, 6.283185], [4.46741, 6.283185], [4.46741, 6.283185], [4.46741, 6.283185], [4.46741, 6.283185], [4.46741, 6.283185], [4.46741, 6.283185], [4.46741, 6.283185], [4.46741, 6.283185], [4.46741, 6.283185], [4.46741, 6.283185], [4.46741, 6.283185], [4.46741, 6.283185], [4.46741, 6.283185], [4.46741, 6.283185], [4.46741, 6.283185], [4.46741, 6.283185], [4.46741, 6.283185], [4.46741, 6.283185], [4.46741, 6.283185], [4.46741, 6.283185], [4.46741, 6.283185], [4.467411, 6.283185], [4.467411, 6.283185], [4.467411, 6.283185], [4.467411, 6.283185], [4.46741, 0.0], [4.46741, 0.0], [4.46741, 0.0], [4.46741, 0.0], [4.46741, 0.0], [4.46741, 0.0], [4.46741, 0.0], [4.46741, 0.0], [4.46741, 0.0], [4.46741, 0.0], [4.46741, 0.0], [4.46741, 0.0], [4.46741, 0.0], [4.46741, 0.0], [4.46741, 0.0], [4.46741, 0.0], [4.46741, 0.0], [4.46741, 0.0], [4.46741, 0.0], [4.46741, 0.0], [4.46741, 0.0], [4.46741, 0.0], [4.46741, 0.0], [4.46741, 0.0], [4.46741, 0.0], [4.46741, 0.0], [4.46741, 0.0], [4.46741, 0.0], [4.46741, 0.0], [4.46741, 0.0], [4.46741, 0.0], [4.46741, 0.0], [4.46741, 0.0], [4.46741, 0.0], [4.46741, 0.0], [4.46741, 0.0], [4.46741, 0.0], [4.46741, 0.0], [4.46741, 0.0], [4.46741, 0.0], [4.46741, 0.0], [4.46741, 0.0], [4.46741, 0.0], [4.46741, 0.0], [4.46741, 0.0], [4.46741, 0.0], [4.46741, 0.0], [4.46741, 0.0], [4.46741, 0.0], [4.46741, 0.0], [4.46741, 0.0], [4.46741, 0.0], [4.46741, 0.0], [4.46741, 0.0], [4.46741, 0.0], [4.46741, 0.0], [4.46741, 0.0]] \n",
      "\n",
      "racinne du residus possible----->\n",
      " [1.5158368689043067e-07, 1.5158368689043067e-07, 1.5158368689043067e-07, 1.5158368689043067e-07, 1.5158368689043067e-07, 1.5158368689043067e-07, 1.5158368689043067e-07, 1.5158368689043067e-07, 1.5158368689043067e-07, 1.5158368689043067e-07, 1.5158368689043067e-07, 1.5158368689043067e-07, 1.5158368689043067e-07, 1.5158368689043067e-07, 1.5158368689043067e-07, 1.5158368689043067e-07, 1.5158368689043067e-07, 9.484037342386888e-07, 9.484037342386888e-07, 9.484037342386888e-07, 9.484037342386888e-07, 9.484037342386888e-07, 9.484037342386888e-07, 9.484037342386888e-07, 9.484037342386888e-07, 9.484037342386888e-07, 9.484037342386888e-07, 9.484037342386888e-07, 9.484037342386888e-07, 9.484037342386888e-07, 9.484037342386888e-07, 1.890639816516077e-06, 1.890639816516077e-06, 2.0472365159244357e-06, 2.0472365159244357e-06, 2.0472365159244357e-06, 2.0472365159244357e-06, 2.232257704640877e-06, 2.232257704640877e-06, 2.232257704640877e-06, 2.232257704640877e-06, 2.232257704640877e-06, 2.232257704640877e-06, 2.867341960690735e-06, 2.944503107256104e-06, 3.849151555245228e-06, 3.9400864978915126e-06, 3.9715503524769165e-06, 4.701879285398951e-06, 6.938961106642957e-06, 7.08164817607011e-06, 8.102426404006747e-06, 1.1369544373091561e-05, 1.1369544373091561e-05, 1.2380384265676189e-05, 1.314913835390438e-05, 1.6573836344495895e-05, 1.776721094223553e-05, 2.0464069706106436e-05, 2.059293789674634e-05, 2.059293789674634e-05, 2.3172804908061102e-05, 2.87642512800225e-05, 3.235541330015164e-05, 3.2850240067505336e-05, 3.4156870948341255e-05, 4.288147266379307e-05, 5.745752962165768e-05, 7.418908111308255e-05, 7.631674100180864e-05, 7.68514669013445e-05, 8.63605231374618e-05, 8.952158247063838e-05, 9.450348272521244e-05, 0.00010688467896934989, 0.0001452481316580295, 0.8768943743817867, 0.8768943743824664, 0.8768943743825547, 0.8768943743825547, 0.8768943743825547, 0.8768943743825547, 0.8768943743825547, 0.8768943743825547, 0.8768943743825547, 0.8768943743825547, 0.8768943743825547, 0.8768943743825547, 0.8768943743825547, 0.8768943743825547, 0.8768943743825547, 0.8768943743836691, 0.8768943743836691, 0.8768943743836691, 0.8768943743836691, 0.8768943743836691, 0.8768943743836691, 0.8768943743836691, 0.8768943743836691, 0.8768943743836691, 0.8768943743836691, 0.8768943743836691, 0.8768943743836691, 0.8768943743836691, 0.8768943743836691, 0.8768943743836691, 0.8768943743836691, 0.8768943743836691, 0.8768943743836691, 0.8768943743836691, 0.8768943743836691, 0.8768943743836691, 0.8768943743836691, 0.8768943743836691, 0.8768943743836691, 0.8768943743836691, 0.8768943743836691, 0.8768943743836691, 0.8768943743836691, 0.8768943743836691, 0.8768943743836691, 0.8768943743836691, 0.8768943743836691, 0.8768943743836691, 0.8768943743836691, 0.8768943743848964, 0.8768943743848964, 0.8768943743875177, 0.8768943743875177, 0.8768943743897992, 0.8768943743907361, 0.8768943744096295, 0.8768943744096295, 0.8768943744465019, 0.8768943744465019, 0.876894374477626, 3.1231056256138916, 3.123105625617457, 3.123105625617457, 3.123105625617457, 3.123105625617457, 3.123105625617457, 3.123105625617457, 3.123105625617645, 3.123105625617645, 3.123105625617645, 3.123105625617645, 3.123105625617645, 3.123105625617645, 3.123105625617645, 3.123105625617645, 3.123105625617645, 3.123105625617645, 3.123105625617645, 3.123105625617645, 3.123105625617645, 3.123105625617645, 3.123105625617645, 3.123105625617645, 3.123105625617645, 3.123105625617645, 3.123105625617645, 3.123105625617645, 3.123105625617645, 3.123105625617645, 3.123105625617645, 3.123105625617645, 3.123105625617645, 3.123105625617645, 3.123105625617645, 3.123105625617645, 3.123105625617645, 3.123105625617645, 3.123105625617645, 3.123105625617645, 3.123105625617645, 3.123105625617645, 3.123105625617645, 3.123105625617645, 3.123105625617645, 3.123105625617645, 3.123105625617645, 3.123105625617645, 3.123105625617645, 3.123105625617645, 3.123105625617645, 3.123105625617645, 3.123105625617645, 3.123105625617645, 3.123105625617645, 3.123105625617645, 3.123105625617645, 3.123105625617645, 3.123105625617645, 3.123105625617645, 3.123105625617645, 3.123105625617645, 3.123105625617645, 3.123105625617645, 3.123105625617645, 3.123105625617645, 3.123105625617645, 3.123105625617645, 3.123105625617645, 3.123105625617645, 3.123105625617645, 3.123105625619258, 3.1231056256198046, 3.1231056256198046, 3.1231056256198046, 3.1231056256198046, 3.123105625623377, 3.12310562563428, 5.123105625615395, 5.123105625615749, 5.123105625615749, 5.123105625615749, 5.12310562561617, 5.123105625617259, 5.123105625617259, 5.123105625617259, 5.123105625617259, 5.123105625617259, 5.123105625617259, 5.123105625617259, 5.123105625617259, 5.123105625617259, 5.123105625617259, 5.123105625617259, 5.123105625617259, 5.123105625617259, 5.123105625617259, 5.123105625617259, 5.123105625617259, 5.123105625617259, 5.123105625617259, 5.123105625617259, 5.123105625617259, 5.123105625617259, 5.123105625617259, 5.123105625617259, 5.123105625617259, 5.123105625617259, 5.123105625617259, 5.123105625617259, 5.123105625617259, 5.123105625617259, 5.123105625617259, 5.123105625617259, 5.123105625617259, 5.123105625617259, 5.123105625617259, 5.123105625617259, 5.123105625617259, 5.123105625617259, 5.123105625617259, 5.123105625617259, 5.123105625617259, 5.123105625617259, 5.123105625617259, 5.123105625617259, 5.123105625617259, 5.123105625617259, 5.123105625617259, 5.123105625617259, 5.123105625617259, 5.123105625617259, 5.123105625617259, 5.123105625617259, 5.123105625617259, 5.123105625617259, 5.123105625617259, 5.123105625617259, 5.123105625617259, 5.123105625617259, 5.123105625617259, 5.123105625617259, 5.123105625617259, 5.123105625617259, 5.12310562561788, 5.12310562561788, 5.12310562561788, 5.12310562561788, 5.12310562561788, 5.12310562561788, 5.12310562561788, 5.12310562561788, 5.1231056256179635, 5.1231056256179635, 5.1231056256179635, 5.123105625618514, 5.123105625620577, 5.123105625620829, 5.123105625627775, 5.123105625659174, 5.123105626150824, 9.123105625490444, 9.12310562561385, 9.12310562561385, 9.123105625614368, 9.123105625615203, 9.1231056256157, 9.123105625615722, 9.123105625615722, 9.123105625615722, 9.123105625616478, 9.12310562561697, 9.12310562561697, 9.12310562561697, 9.12310562561697, 9.123105625617134, 9.123105625617134, 9.123105625617134, 9.12310562561732, 9.12310562561732, 9.12310562561732, 9.12310562561732, 9.12310562561732, 9.12310562561732, 9.12310562561732, 9.12310562561732, 9.12310562561732, 9.12310562561732, 9.12310562561732, 9.12310562561732, 9.12310562561732, 9.12310562561732, 9.12310562561732, 9.12310562561732, 9.12310562561732, 9.12310562561732, 9.12310562561732, 9.12310562561732, 9.12310562561732, 9.12310562561732, 9.12310562561732, 9.12310562561732, 9.12310562561732, 9.12310562561732, 9.123105625617324, 9.123105625617324, 9.123105625617324, 9.123105625617324, 9.123105625617548, 9.123105625617548, 9.123105625617548, 9.123105625617548, 9.123105625617548, 9.123105625617548, 9.123105625617548, 9.123105625617548, 9.123105625617548, 9.123105625617548, 9.123105625617548, 9.123105625617548, 9.123105625617548, 9.123105625617548, 9.123105625617548, 9.123105625617548, 9.123105625617548, 9.123105625617548, 9.123105625617548, 9.123105625617548, 9.123105625617548, 9.123105625617548, 9.123105625617548, 9.123105625617548, 9.123105625617548, 9.123105625617548, 9.123105625617548, 9.123105625617548, 9.123105625617548, 9.123105625617548, 9.123105625617548, 9.123105625617548, 9.123105625617548, 9.123105625617548, 9.123105625617548, 9.123105625617548, 9.123105625617548, 9.123105625617548, 9.123105625617548, 9.123105625617548, 9.123105625617548, 9.123105625617548, 9.123105625617548, 9.123105625617548, 9.123105625617548, 9.123105625617548, 9.123105625617548, 9.123105625617548, 9.123105625617548, 9.123105625617548, 9.123105625617548, 9.123105625617548, 9.123105625617548, 9.123105625617548, 9.123105625617548, 9.123105625617548, 9.123105625617548]\n",
      "\n",
      "\n",
      "pour la pose---> [1, 4] et les longuer des bras---> [2, 3]   les resultats d'analyse finale par methode gradient sont:\n",
      "\n",
      "apres de le filtrage des valeurs équivalents---->\n",
      " [[2.081787, 5.052226], [0.569848, 1.23096], [1.325817, 0], [4.467407, 3.141596], [1.325818, 3.141594], [4.467399, 0]]\n",
      "\n",
      "les solutions posisbles trouvées---> [[2.081787, 5.052226], [0.569848, 1.23096]] \n",
      "\n",
      "solution non_uniques!\n",
      "premiere solution nous donne---> point depart( [0.6613879270715354, 2.6455517082861415] )---> [2.081787, 5.052226]   vérification par modèle geometrique---> [1.0000000479014992, 4.000000143816065]\n",
      "deuxieme solution nous donne---> point depart( [0.0, 0.3306939635357677] )---> [0.569848, 1.23096]   vérification par modèle geometrique---> [0.9999993110338806, 3.9999993482367535]\n"
     ]
    },
    {
     "data": {
      "text/plain": [
       "[[0.6613879270715354, 2.6455517082861415], [0.0, 0.3306939635357677]]"
      ]
     },
     "execution_count": 6,
     "metadata": {},
     "output_type": "execute_result"
    }
   ],
   "source": [
    "##solution non-unique\n",
    "projet_optimisation.solution_articulaire_4eme([1,4],[2,3],1e-2,1000)\n",
    "###projet_optimisation.solution_articulaire_4eme([3,9],[3,10],1e-2,1000)\n",
    "##solution unique\n",
    "###projet_optimisation.solution_articulaire_4eme([3,4],[2,3],1e-2,1000)\n",
    "###projet_optimisation.solution_articulaire_4eme([5,12],[3,10],1e-2,1000)\n",
    "##pas de solution\n",
    "###projet_optimisation.solution_articulaire_4eme([3,5],[2,3],1e-2,1000)\n",
    "###projet_optimisation.solution_articulaire_4eme([5,13],[3,10],1e-2,1000)"
   ]
  },
  {
   "cell_type": "markdown",
   "id": "c94f4332-72e1-48e5-a6cb-3f313f81bb22",
   "metadata": {},
   "source": [
    "### *6.Le méthode analytique* \n",
    "Cette méthode est realisé par le méthode de root et les formules calculé manuellement pour le cas solution non-unique, on utilise la méthode root pour obtenir une solution, et puis on calculer une autre solution directement par le formule calculé,ce méthode est le plus précis, il y a pas de posiibilité d'ommetre les solution, si la pose donnée est bien défini dans l'espace atteignable non-unique, on aura certainement deux solutions,cependant on peux constater quelque  inconvénient de cette méthode, si le systète robotique a résoudre est assez complex, on ne peut pas trouver les solution par la méthode mathematique,parce que les formule sera tres complex ou impossible de les trouver!\n",
    "#### vou pouvez vérifier les trois cas en décommentant les fonctions suivantes"
   ]
  },
  {
   "cell_type": "code",
   "execution_count": 7,
   "id": "a8fc986b-fa95-4ef2-9204-25fa001807fa",
   "metadata": {},
   "outputs": [
    {
     "name": "stdout",
     "output_type": "stream",
     "text": [
      "la methode anamytique\n",
      "\n",
      " solution non-uniques:\n",
      " la première solution: [0.5698482532666862, 1.2309594173060567] \n",
      " l'autre solution : [2.0818794729463552, 5.052174549854371]\n",
      "\n",
      " vérification de la valeur:\n",
      " pour theta,modèle directe nous donne: [1.0000000000111653, 4.000000000046308] \n",
      " pour theta_prime,modèle directe nous donne: [0.9997462033555296, 3.9999908347378197]\n",
      "en génerale, on utilise le symétrie pour trouver une autre solution,les deux solition sont symétrique par rappor a la ligne OP(O est le point origine et P est le point de la pose)\n"
     ]
    },
    {
     "data": {
      "text/plain": [
       "([0.5698482532666862, 1.2309594173060567],\n",
       " [2.0818794729463552, 5.052174549854371])"
      ]
     },
     "execution_count": 7,
     "metadata": {},
     "output_type": "execute_result"
    }
   ],
   "source": [
    "##solution non-unique\n",
    "projet_optimisation.solution_articulaire_analytique([1,4],[2,3])\n",
    "##solution unique\n",
    "###projet_optimisation.solution_articulaire_analytique([3,4],[2,3])\n",
    "##pas de solution\n",
    "###projet_optimisation.solution_articulaire_analytique([1,15],[2,3])"
   ]
  },
  {
   "cell_type": "markdown",
   "id": "4859ca1e-4999-4b64-949a-089761c67d71",
   "metadata": {
    "tags": []
   },
   "source": [
    "# *Ⅲ.PARTIE B*\n",
    "## *Importance du pas de la méthode du gradient*\n",
    "Apres d'avoir compilé les deux fonction suivante avec deux alpha différent(0.01 ou 0.05), on peut constater, le résumtat trouvé par la méthode gradient n'est pas paraeil\n",
    "voici sont les résultat:\n",
    "alpha--->0.05:  \n",
    "le cas pas de solution,le point le plus proche: point depart( [5.291103416572283, 5.9524913436438185] )   --->theta: [0.010059, 1.236812] et la distance le plus court: 2.2608399890116297  \n",
    "alpha--->0.01  \n",
    "les solutions posisbles trouvées---> [[2.081787, 5.052226], [0.569848, 1.23096]]   \n",
    "solution non_uniques!  \n",
    "premiere solution nous donne---> point depart( [0.0, 4.6297154895007475] )---> [2.081787, 5.052226]   vérification par modèle geometrique---> [1.0000000479014992, 4.000000143816065]  \n",
    "deuxieme solution nous donne---> point depart( [0.0, 5.9524913436438185] )---> [0.569848, 1.23096]   vérification par modèle geometrique---> [0.9999993110338806, 3.9999993482367535]    \n",
    "Particulierement, on peut vérifier l'importance du choix de bon alpha par la fonction \"résultat_iteration_gradient(X,l,theta,precision,nmax)\"\n",
    "en compilant les deux exemple suivantes, on peut constater quand on choisi 0.05 comme alpha, il ne peut pas coverger correctement  \n",
    "### *Petite conclusion:*     \n",
    "choisir une bonne valeur pour le pas de la méthode gradient est tres important, si le alpha est trop grand, la methode ne peut pas converger correctement, mais si le alpha est trop petit, la rapidité de la compilation est top bas, \n",
    "donc pour avir un résultat une bonne rapidité, on doit choisir une pertinent alpha.\n",
    "#### vou pouvez les vérifier en décommentant les fonctions suivantes"
   ]
  },
  {
   "cell_type": "code",
   "execution_count": 8,
   "id": "932f45ac-6e3e-4623-95c3-294fc91df76c",
   "metadata": {},
   "outputs": [
    {
     "name": "stdout",
     "output_type": "stream",
     "text": [
      "la méthode de gradient a pas fixé avec alpha choisi---> 0.01  et le nombre d'itération max---> 1000\n",
      "\n",
      "veuillez patienter, les donneés en train de chargement, la compilation peut prendre jusqu'a trois minute\n"
     ]
    },
    {
     "name": "stdin",
     "output_type": "stream",
     "text": [
      "veuillez taper 'yes' si vous voulez afficher les resultats de methode gradient a pas fix sinon taper'no'---> yes\n"
     ]
    },
    {
     "name": "stdout",
     "output_type": "stream",
     "text": [
      "\n",
      "les résultats résolu par methode gradient a pas fixe en 400 points départ:\n",
      "\n",
      "theta----->\n",
      " [[2.081787, 5.052226], [2.081787, 5.052226], [2.081787, 5.052226], [2.081787, 5.052226], [2.081787, 5.052226], [2.081787, 5.052226], [2.081787, 5.052226], [2.081787, 5.052226], [2.081787, 5.052226], [2.081787, 5.052226], [2.081787, 5.052226], [2.081787, 5.052226], [2.081787, 5.052226], [2.081787, 5.052226], [2.081787, 5.052226], [2.081787, 5.052226], [2.081787, 5.052226], [2.081787, 5.052226], [2.081787, 5.052226], [2.081787, 5.052226], [2.081787, 5.052226], [2.081787, 5.052226], [2.081787, 5.052226], [2.081787, 5.052226], [2.081787, 5.052226], [2.081787, 5.052226], [2.081787, 5.052226], [2.081787, 5.052226], [2.081787, 5.052226], [2.081787, 5.052226], [2.081787, 5.052226], [2.081787, 5.052226], [2.081787, 5.052226], [2.081787, 5.052226], [2.081787, 5.052226], [2.081787, 5.052226], [2.081787, 5.052226], [2.081787, 5.052226], [2.081787, 5.052226], [2.081787, 5.052226], [2.081787, 5.052226], [2.081787, 5.052226], [2.081787, 5.052226], [2.081787, 5.052226], [2.081787, 5.052226], [2.081787, 5.052226], [2.081787, 5.052226], [2.081787, 5.052226], [2.081787, 5.052226], [2.081787, 5.052226], [2.081787, 5.052226], [2.081787, 5.052226], [2.081787, 5.052226], [2.081787, 5.052226], [2.081787, 5.052226], [2.081787, 5.052226], [2.081787, 5.052226], [2.081787, 5.052226], [2.081787, 5.052226], [2.081787, 5.052226], [2.081787, 5.052226], [2.081787, 5.052226], [2.081787, 5.052226], [2.081787, 5.052226], [2.081787, 5.052226], [2.081787, 5.052226], [2.081787, 5.052226], [2.081787, 5.052226], [2.081787, 5.052226], [2.081787, 5.052226], [2.081787, 5.052226], [2.081787, 5.052226], [2.081787, 5.052226], [2.081787, 5.052226], [2.081787, 5.052226], [2.081787, 5.052226], [2.081787, 5.052226], [2.081787, 5.052226], [2.081787, 5.052226], [2.081787, 5.052226], [2.081787, 5.052226], [2.081787, 5.052226], [2.081787, 5.052226], [2.081787, 5.052226], [2.081787, 5.052226], [2.081787, 5.052226], [2.081787, 5.052226], [2.081787, 5.052226], [2.081787, 5.052226], [2.081787, 5.052226], [2.081787, 5.052226], [2.081787, 5.052226], [2.081787, 5.052226], [2.081787, 5.052226], [2.081787, 5.052226], [2.081787, 5.052226], [2.081787, 5.052226], [2.081787, 5.052226], [2.081787, 5.052226], [2.081787, 5.052226], [2.081787, 5.052226], [2.081787, 5.052226], [2.081787, 5.052226], [2.081787, 5.052226], [2.081787, 5.052226], [2.081787, 5.052226], [2.081787, 5.052226], [2.081787, 5.052226], [2.081787, 5.052226], [2.081787, 5.052226], [2.081787, 5.052226], [2.081787, 5.052226], [2.081787, 5.052226], [2.081787, 5.052226], [2.081787, 5.052226], [2.081787, 5.052226], [2.081787, 5.052226], [2.081787, 5.052226], [2.081787, 5.052226], [2.081787, 5.052226], [2.081787, 5.052226], [2.081787, 5.052226], [2.081787, 5.052226], [2.081787, 5.052226], [2.081787, 5.052226], [2.081787, 5.052226], [2.081787, 5.052226], [2.081787, 5.052226], [2.081787, 5.052226], [2.081787, 5.052226], [2.081787, 5.052226], [2.081787, 5.052226], [2.081787, 5.052226], [2.081787, 5.052226], [2.081787, 5.052226], [2.081787, 5.052226], [2.081787, 5.052226], [2.081787, 5.052226], [2.081787, 5.052226], [2.081787, 5.052226], [2.081787, 5.052226], [2.081787, 5.052226], [2.081787, 5.052226], [2.081787, 5.052226], [2.081787, 5.052226], [2.081787, 5.052226], [2.081787, 5.052226], [2.081787, 5.052226], [2.081787, 5.052226], [2.081787, 5.052226], [2.081787, 5.052226], [2.081787, 5.052226], [2.081787, 5.052226], [2.081787, 5.052226], [2.081787, 5.052226], [2.081787, 5.052226], [2.081787, 5.052226], [2.081787, 5.052226], [2.081787, 5.052226], [2.081787, 5.052226], [2.081787, 5.052226], [2.081787, 5.052226], [2.081787, 5.052226], [2.081787, 5.052226], [2.081787, 5.052226], [2.081787, 5.052226], [2.081787, 5.052226], [2.081787, 5.052226], [2.081787, 5.052226], [2.081787, 5.052226], [2.081787, 5.052226], [2.081787, 5.052226], [2.081787, 5.052226], [2.081787, 5.052226], [2.081787, 5.052226], [2.081787, 5.052226], [2.081787, 5.052226], [2.081787, 5.052226], [2.081787, 5.052226], [2.081787, 5.052226], [2.081787, 5.052226], [2.081787, 5.052226], [2.081787, 5.052226], [2.081787, 5.052226], [2.081787, 5.052226], [2.081787, 5.052226], [2.081787, 5.052226], [2.081787, 5.052226], [2.081787, 5.052226], [2.081787, 5.052226], [2.081787, 5.052226], [2.081787, 5.052226], [2.081787, 5.052226], [0.569848, 1.23096], [0.569848, 1.23096], [0.569848, 1.23096], [0.569848, 1.23096], [0.569848, 1.23096], [0.569848, 1.23096], [0.569848, 1.23096], [0.569849, 1.230959], [0.569849, 1.230959], [0.569849, 1.230959], [0.569849, 1.230959], [0.569849, 1.230959], [0.569849, 1.230959], [0.569849, 1.230959], [0.569849, 1.230959], [0.569849, 1.230959], [0.569849, 1.230959], [0.569849, 1.230959], [0.569849, 1.230959], [0.569849, 1.230959], [0.569849, 1.230959], [0.569849, 1.230959], [0.569849, 1.230959], [0.569849, 1.230959], [0.569849, 1.230959], [0.569849, 1.230959], [0.569849, 1.230959], [0.569849, 1.230959], [0.569849, 1.230959], [0.569849, 1.230959], [0.569849, 1.230959], [0.569849, 1.230959], [0.569849, 1.230959], [0.569849, 1.230959], [0.569849, 1.230959], [0.569849, 1.230959], [0.569849, 1.230959], [0.569849, 1.230959], [0.569849, 1.230959], [0.569849, 1.230959], [0.569849, 1.230959], [0.569849, 1.230959], [0.569849, 1.230959], [0.569849, 1.230959], [0.569849, 1.230959], [0.569849, 1.230959], [0.569849, 1.230959], [0.569849, 1.230959], [0.569849, 1.230959], [0.569849, 1.230959], [0.569849, 1.230959], [0.569849, 1.230959], [0.569849, 1.230959], [0.569849, 1.230959], [0.569849, 1.230959], [0.569849, 1.230959], [0.569849, 1.230959], [0.569849, 1.230959], [0.569849, 1.230959], [0.569849, 1.230959], [0.569849, 1.230959], [0.569849, 1.230959], [0.569849, 1.230959], [0.569849, 1.230959], [0.569849, 1.230959], [0.569849, 1.230959], [0.569849, 1.230959], [0.569849, 1.230959], [0.569849, 1.230959], [0.569849, 1.230959], [0.569849, 1.230959], [0.569849, 1.230959], [0.569849, 1.230959], [0.569849, 1.230959], [0.569849, 1.230959], [0.569849, 1.230959], [0.569849, 1.230959], [0.569849, 1.230959], [0.569849, 1.230959], [0.569849, 1.230959], [0.569849, 1.230959], [0.569849, 1.230959], [0.569849, 1.230959], [0.569849, 1.230959], [0.569849, 1.230959], [0.569849, 1.230959], [0.569849, 1.230959], [0.569849, 1.230959], [0.569849, 1.230959], [0.569849, 1.230959], [0.569849, 1.230959], [0.569849, 1.230959], [0.569849, 1.230959], [0.569849, 1.230959], [0.569849, 1.230959], [0.569849, 1.230959], [0.569849, 1.230959], [0.569849, 1.230959], [0.569849, 1.230959], [0.569849, 1.230959], [0.569849, 1.230959], [0.569849, 1.230959], [0.569849, 1.230959], [0.569849, 1.230959], [0.569849, 1.230959], [0.569849, 1.230959], [0.569848, 1.230959], [0.569848, 1.230959], [0.569848, 1.230959], [0.569848, 1.230959], [0.569848, 1.230959], [0.569848, 1.230959], [0.569848, 1.230959], [0.569848, 1.230959], [0.569848, 1.230959], [0.569848, 1.230959], [0.569848, 1.230959], [0.569848, 1.230959], [0.569848, 1.230959], [0.569848, 1.230959], [0.569848, 1.230959], [0.569848, 1.230959], [0.569848, 1.230959], [0.569848, 1.230959], [0.569848, 1.230959], [0.569848, 1.230959], [0.569848, 1.230959], [0.569848, 1.230959], [0.569848, 1.230959], [0.569848, 1.230959], [0.569848, 1.230959], [0.569848, 1.230959], [0.569848, 1.230959], [0.569848, 1.230959], [0.569848, 1.230959], [0.569848, 1.230959], [0.569848, 1.230959], [0.569848, 1.230959], [0.569848, 1.230959], [0.569848, 1.230959], [0.569848, 1.230959], [0.569848, 1.230959], [0.569848, 1.230959], [0.569848, 1.230959], [0.569848, 1.230959], [0.569848, 1.230959], [0.569848, 1.230959], [0.569848, 1.230959], [0.569848, 1.230959], [0.569848, 1.230959], [0.569848, 1.230959], [0.569848, 1.230959], [0.569848, 1.230959], [0.569848, 1.230959], [0.569848, 1.230959], [0.569848, 1.230959], [0.569848, 1.230959], [0.569848, 1.230959], [0.569848, 1.230959], [0.569848, 1.230959], [0.569848, 1.230959], [0.569848, 1.230959], [0.569848, 1.230959], [0.569848, 1.230959], [0.569848, 1.230959], [0.569848, 1.230959], [0.569848, 1.230959], [0.569848, 1.230959], [0.569848, 1.230959], [0.569848, 1.230959], [0.569848, 1.230959], [0.569848, 1.230959], [0.569848, 1.230959], [0.569848, 1.230959], [0.569848, 1.230959], [0.569848, 1.230959], [0.569848, 1.230959], [0.569848, 1.230959], [0.569848, 1.230959], [0.569848, 1.230959], [0.569848, 1.230959], [0.569848, 1.230959], [0.569848, 1.230959], [0.569848, 1.230959], [0.569848, 1.230959], [0.569848, 1.230959], [0.569848, 1.230959], [0.569848, 1.230959], [0.569848, 1.230959], [0.569848, 1.230959], [0.569848, 1.230959], [0.569848, 1.230959], [0.569848, 1.230959], [0.569849, 1.23096], [0.569849, 1.23096], [0.569849, 1.23096], [0.569849, 1.23096], [0.569849, 1.23096], [0.569849, 1.23096], [0.569849, 1.23096], [0.569849, 1.23096], [0.569849, 1.23096], [0.569849, 1.23096], [0.569849, 1.23096], [0.569849, 1.23096], [0.569849, 1.23096], [0.569849, 1.23096]] \n",
      "\n",
      "racinne du residus possible----->\n",
      " [1.5158368689043067e-07, 1.5158368689043067e-07, 1.5158368689043067e-07, 1.5158368689043067e-07, 1.5158368689043067e-07, 1.5158368689043067e-07, 1.5158368689043067e-07, 1.5158368689043067e-07, 1.5158368689043067e-07, 1.5158368689043067e-07, 1.5158368689043067e-07, 1.5158368689043067e-07, 1.5158368689043067e-07, 1.5158368689043067e-07, 1.5158368689043067e-07, 1.5158368689043067e-07, 1.5158368689043067e-07, 1.5158368689043067e-07, 1.5158368689043067e-07, 1.5158368689043067e-07, 1.5158368689043067e-07, 1.5158368689043067e-07, 1.5158368689043067e-07, 1.5158368689043067e-07, 1.5158368689043067e-07, 1.5158368689043067e-07, 1.5158368689043067e-07, 1.5158368689043067e-07, 1.5158368689043067e-07, 1.5158368689043067e-07, 1.5158368689043067e-07, 1.5158368689043067e-07, 1.5158368689043067e-07, 1.5158368689043067e-07, 1.5158368689043067e-07, 1.5158368689043067e-07, 1.5158368689043067e-07, 1.5158368689043067e-07, 1.5158368689043067e-07, 1.5158368689043067e-07, 1.5158368689043067e-07, 1.5158368689043067e-07, 1.5158368689043067e-07, 1.5158368689043067e-07, 1.5158368689043067e-07, 1.5158368689043067e-07, 1.5158368689043067e-07, 1.5158368689043067e-07, 1.5158368689043067e-07, 1.5158368689043067e-07, 1.5158368689043067e-07, 1.5158368689043067e-07, 1.5158368689043067e-07, 1.5158368689043067e-07, 1.5158368689043067e-07, 1.5158368689043067e-07, 1.5158368689043067e-07, 1.5158368689043067e-07, 1.5158368689043067e-07, 1.5158368689043067e-07, 1.5158368689043067e-07, 1.5158368689043067e-07, 1.5158368689043067e-07, 1.5158368689043067e-07, 1.5158368689043067e-07, 1.5158368689043067e-07, 1.5158368689043067e-07, 1.5158368689043067e-07, 1.5158368689043067e-07, 1.5158368689043067e-07, 1.5158368689043067e-07, 1.5158368689043067e-07, 1.5158368689043067e-07, 1.5158368689043067e-07, 1.5158368689043067e-07, 1.5158368689043067e-07, 1.5158368689043067e-07, 1.5158368689043067e-07, 1.5158368689043067e-07, 1.5158368689043067e-07, 1.5158368689043067e-07, 1.5158368689043067e-07, 1.5158368689043067e-07, 1.5158368689043067e-07, 1.5158368689043067e-07, 1.5158368689043067e-07, 1.5158368689043067e-07, 1.5158368689043067e-07, 1.5158368689043067e-07, 1.5158368689043067e-07, 1.5158368689043067e-07, 1.5158368689043067e-07, 1.5158368689043067e-07, 1.5158368689043067e-07, 1.5158368689043067e-07, 1.5158368689043067e-07, 1.5158368689043067e-07, 1.5158368689043067e-07, 1.5158368689043067e-07, 1.5158368689043067e-07, 1.5158368689043067e-07, 1.5158368689043067e-07, 1.5158368689043067e-07, 1.5158368689043067e-07, 1.5158368689043067e-07, 1.5158368689043067e-07, 1.5158368689043067e-07, 1.5158368689043067e-07, 1.5158368689043067e-07, 1.5158368689043067e-07, 1.5158368689043067e-07, 1.5158368689043067e-07, 1.5158368689043067e-07, 1.5158368689043067e-07, 1.5158368689043067e-07, 1.5158368689043067e-07, 1.5158368689043067e-07, 1.5158368689043067e-07, 1.5158368689043067e-07, 1.5158368689043067e-07, 1.5158368689043067e-07, 1.5158368689043067e-07, 1.5158368689043067e-07, 1.5158368689043067e-07, 1.5158368689043067e-07, 1.5158368689043067e-07, 1.5158368689043067e-07, 1.5158368689043067e-07, 1.5158368689043067e-07, 1.5158368689043067e-07, 1.5158368689043067e-07, 1.5158368689043067e-07, 1.5158368689043067e-07, 1.5158368689043067e-07, 1.5158368689043067e-07, 1.5158368689043067e-07, 1.5158368689043067e-07, 1.5158368689043067e-07, 1.5158368689043067e-07, 1.5158368689043067e-07, 1.5158368689043067e-07, 1.5158368689043067e-07, 1.5158368689043067e-07, 1.5158368689043067e-07, 1.5158368689043067e-07, 1.5158368689043067e-07, 1.5158368689043067e-07, 1.5158368689043067e-07, 1.5158368689043067e-07, 1.5158368689043067e-07, 1.5158368689043067e-07, 1.5158368689043067e-07, 1.5158368689043067e-07, 1.5158368689043067e-07, 1.5158368689043067e-07, 1.5158368689043067e-07, 1.5158368689043067e-07, 1.5158368689043067e-07, 1.5158368689043067e-07, 1.5158368689043067e-07, 1.5158368689043067e-07, 1.5158368689043067e-07, 1.5158368689043067e-07, 1.5158368689043067e-07, 1.5158368689043067e-07, 1.5158368689043067e-07, 1.5158368689043067e-07, 1.5158368689043067e-07, 1.5158368689043067e-07, 1.5158368689043067e-07, 1.5158368689043067e-07, 1.5158368689043067e-07, 1.5158368689043067e-07, 1.5158368689043067e-07, 1.5158368689043067e-07, 1.5158368689043067e-07, 1.5158368689043067e-07, 1.5158368689043067e-07, 1.5158368689043067e-07, 1.5158368689043067e-07, 1.5158368689043067e-07, 1.5158368689043067e-07, 1.5158368689043067e-07, 1.5158368689043067e-07, 1.5158368689043067e-07, 1.5158368689043067e-07, 1.5158368689043067e-07, 1.5158368689043067e-07, 1.5158368689043067e-07, 1.5158368689043067e-07, 1.5158368689043067e-07, 1.5158368689043067e-07, 1.5158368689043067e-07, 9.484037342386888e-07, 9.484037342386888e-07, 9.484037342386888e-07, 9.484037342386888e-07, 9.484037342386888e-07, 9.484037342386888e-07, 9.484037342386888e-07, 2.0472365159244357e-06, 2.0472365159244357e-06, 2.0472365159244357e-06, 2.0472365159244357e-06, 2.0472365159244357e-06, 2.0472365159244357e-06, 2.0472365159244357e-06, 2.0472365159244357e-06, 2.0472365159244357e-06, 2.0472365159244357e-06, 2.0472365159244357e-06, 2.0472365159244357e-06, 2.0472365159244357e-06, 2.0472365159244357e-06, 2.0472365159244357e-06, 2.0472365159244357e-06, 2.0472365159244357e-06, 2.0472365159244357e-06, 2.0472365159244357e-06, 2.0472365159244357e-06, 2.0472365159244357e-06, 2.0472365159244357e-06, 2.0472365159244357e-06, 2.0472365159244357e-06, 2.0472365159244357e-06, 2.0472365159244357e-06, 2.0472365159244357e-06, 2.0472365159244357e-06, 2.0472365159244357e-06, 2.0472365159244357e-06, 2.0472365159244357e-06, 2.0472365159244357e-06, 2.0472365159244357e-06, 2.0472365159244357e-06, 2.0472365159244357e-06, 2.0472365159244357e-06, 2.0472365159244357e-06, 2.0472365159244357e-06, 2.0472365159244357e-06, 2.0472365159244357e-06, 2.0472365159244357e-06, 2.0472365159244357e-06, 2.0472365159244357e-06, 2.0472365159244357e-06, 2.0472365159244357e-06, 2.0472365159244357e-06, 2.0472365159244357e-06, 2.0472365159244357e-06, 2.0472365159244357e-06, 2.0472365159244357e-06, 2.0472365159244357e-06, 2.0472365159244357e-06, 2.0472365159244357e-06, 2.0472365159244357e-06, 2.0472365159244357e-06, 2.0472365159244357e-06, 2.0472365159244357e-06, 2.0472365159244357e-06, 2.0472365159244357e-06, 2.0472365159244357e-06, 2.0472365159244357e-06, 2.0472365159244357e-06, 2.0472365159244357e-06, 2.0472365159244357e-06, 2.0472365159244357e-06, 2.0472365159244357e-06, 2.0472365159244357e-06, 2.0472365159244357e-06, 2.0472365159244357e-06, 2.0472365159244357e-06, 2.0472365159244357e-06, 2.0472365159244357e-06, 2.0472365159244357e-06, 2.0472365159244357e-06, 2.0472365159244357e-06, 2.0472365159244357e-06, 2.0472365159244357e-06, 2.0472365159244357e-06, 2.0472365159244357e-06, 2.0472365159244357e-06, 2.0472365159244357e-06, 2.0472365159244357e-06, 2.0472365159244357e-06, 2.0472365159244357e-06, 2.0472365159244357e-06, 2.0472365159244357e-06, 2.0472365159244357e-06, 2.0472365159244357e-06, 2.0472365159244357e-06, 2.0472365159244357e-06, 2.0472365159244357e-06, 2.0472365159244357e-06, 2.0472365159244357e-06, 2.0472365159244357e-06, 2.0472365159244357e-06, 2.0472365159244357e-06, 2.0472365159244357e-06, 2.0472365159244357e-06, 2.0472365159244357e-06, 2.232257704640877e-06, 2.232257704640877e-06, 2.232257704640877e-06, 2.232257704640877e-06, 2.232257704640877e-06, 2.232257704640877e-06, 2.232257704640877e-06, 2.232257704640877e-06, 2.232257704640877e-06, 2.232257704640877e-06, 2.232257704640877e-06, 2.232257704640877e-06, 2.232257704640877e-06, 2.232257704640877e-06, 2.232257704640877e-06, 2.232257704640877e-06, 2.232257704640877e-06, 2.232257704640877e-06, 2.232257704640877e-06, 2.232257704640877e-06, 2.232257704640877e-06, 2.232257704640877e-06, 2.232257704640877e-06, 2.232257704640877e-06, 2.232257704640877e-06, 2.232257704640877e-06, 2.232257704640877e-06, 2.232257704640877e-06, 2.232257704640877e-06, 2.232257704640877e-06, 2.232257704640877e-06, 2.232257704640877e-06, 2.232257704640877e-06, 2.232257704640877e-06, 2.232257704640877e-06, 2.232257704640877e-06, 2.232257704640877e-06, 2.232257704640877e-06, 2.232257704640877e-06, 2.232257704640877e-06, 2.232257704640877e-06, 2.232257704640877e-06, 2.232257704640877e-06, 2.232257704640877e-06, 2.232257704640877e-06, 2.232257704640877e-06, 2.232257704640877e-06, 2.232257704640877e-06, 2.232257704640877e-06, 2.232257704640877e-06, 2.232257704640877e-06, 2.232257704640877e-06, 2.232257704640877e-06, 2.232257704640877e-06, 2.232257704640877e-06, 2.232257704640877e-06, 2.232257704640877e-06, 2.232257704640877e-06, 2.232257704640877e-06, 2.232257704640877e-06, 2.232257704640877e-06, 2.232257704640877e-06, 2.232257704640877e-06, 2.232257704640877e-06, 2.232257704640877e-06, 2.232257704640877e-06, 2.232257704640877e-06, 2.232257704640877e-06, 2.232257704640877e-06, 2.232257704640877e-06, 2.232257704640877e-06, 2.232257704640877e-06, 2.232257704640877e-06, 2.232257704640877e-06, 2.232257704640877e-06, 2.232257704640877e-06, 2.232257704640877e-06, 2.232257704640877e-06, 2.232257704640877e-06, 2.232257704640877e-06, 2.232257704640877e-06, 2.232257704640877e-06, 2.232257704640877e-06, 2.232257704640877e-06, 2.232257704640877e-06, 2.232257704640877e-06, 2.232257704640877e-06, 4.701879285398951e-06, 4.701879285398951e-06, 4.701879285398951e-06, 4.701879285398951e-06, 4.701879285398951e-06, 4.701879285398951e-06, 4.701879285398951e-06, 4.701879285398951e-06, 4.701879285398951e-06, 4.701879285398951e-06, 4.701879285398951e-06, 4.701879285398951e-06, 4.701879285398951e-06, 4.701879285398951e-06]\n",
      "\n",
      "pour la pose---> [1, 4] et les longuer des bras---> [2, 3]   les resultats d'analyse finale par methode gradient sont:\n",
      "\n",
      "apres de le filtrage des valeurs équivalents\n",
      "theta---->\n",
      " [[2.081787, 5.052226], [0.569848, 1.23096]] \n",
      "la valeur de racinne de residus---> [1.5158368689043067e-07, 9.484037342386888e-07]\n",
      "\n",
      "les solutions posisbles trouvées---> [[2.081787, 5.052226], [0.569848, 1.23096]] \n",
      "\n",
      "solution non_uniques!\n",
      "premiere solution nous donne---> point depart( [0.0, 4.6297154895007475] )---> [2.081787, 5.052226]   vérification par modèle geometrique---> [1.0000000479014992, 4.000000143816065]\n",
      "deuxieme solution nous donne---> point depart( [0.0, 5.9524913436438185] )---> [0.569848, 1.23096]   vérification par modèle geometrique---> [0.9999993110338806, 3.9999993482367535]\n"
     ]
    }
   ],
   "source": [
    "projet_optimisation.solution_articulaire_3eme([1,4],[2,3],0.01,1000)\n",
    "#projet_optimisation.solution_articulaire_3eme([1,4],[2,3],0.05,1000)\n",
    "projet_optimisation.résultat_iteration_gradient([1,4],[2,3],[0,0],0.01,1000) \n",
    "#projet_optimisation.résultat_iteration_gradient([1,4],[2,3],[0,0],0.05,1000) "
   ]
  },
  {
   "cell_type": "markdown",
   "id": "45a36d90-fad4-4a38-8a05-e7bfaf67994c",
   "metadata": {},
   "source": [
    "# *Ⅳ.PARTIE C*\n",
    "## *Importance du point de départ de la méthode de Newton*\n",
    "On peut utiliser la fontion \"projet_optimisation.résultat_iteration_newton(X,l,theta,precision,nmax)\"pour vérifier l'importance du point de départ de la méthode newton  \n",
    "quand on choisi [5,1.25] comme le point départ, on peut constater que la fonction est convergé en un point ni point max ni point max(cette fonction converge vers l'extremum local)  \n",
    "quand on choisi [5,0] comme le point départ, on peut constater que la fonction est convergé en max   \n",
    "quand on choisi [1.25,2.5] comme le point départ, on peut constater que la fonction est convergé en min  \n",
    "### *Petite conclusiton:* \n",
    "le choix différent du point départ de la méthode newton influence beaucoup le résultat de la méthode newton, pour avoir un résultat correct, on doit tester plein de points départs, et puis on doit filtrer ces résultat si bine que nous puissons avoir un résultat correct\n",
    "#### vou pouvez les vérifier en décommentant les fonctions suivantes"
   ]
  },
  {
   "cell_type": "code",
   "execution_count": 9,
   "id": "3f766ef7-28b7-4c1c-95ca-b4cee3fcf64e",
   "metadata": {},
   "outputs": [],
   "source": [
    "projet_optimisation.résultat_iteration_newton([1,4],[2,3],[5,1.25],0.01,1000) \n",
    "#projet_optimisation.résultat_iteration_newton([1,4],[2,3],[5,0],0.01,1000) \n",
    "#projet_optimisation.résultat_iteration_newton([1,4],[2,3],[1.25,2.5],0.01,1000) "
   ]
  },
  {
   "cell_type": "markdown",
   "id": "bc1056ec-f647-4d61-b760-f673b5cdb672",
   "metadata": {},
   "source": [
    "# *Ⅴ.Conclusion finale:*\n",
    "Dans ce projet, on a programmé quatre méthodes pour trouve la solution de la modèle inverse d’un bras de robot à 2 articulations, methode optimize.root, méthode.optimize, methode gradient a pas fixé, méthode newton,en fait ,la pricipe de ces methodes différentes sont meme, on donne un point départ, et puis les méthode va trouve une valeur minimun local apres la convergence, mais Ces méthodes ne peuvent produire qu'un seul résultat à la fois，Le résultat obtenu à chaque fois n'est pas forcément la réponse que l'on souhaite, Afin de considérer toutes les situations(solution unique, non-unique,pas de solution) et de trouver la plus petite valeur, nous devons tester différents points de départ. Nous avons ajouté une liste de points de départ pour chaque méthode et écrit une boucle pour tester chaque point de départ.Nous avons agrégé tous les résultats obtenus, et fait un tri, ajouté quelques restrictions(par exemple:minimisation de la valeur articulaire, enlever les valeurs équivalents), et enfin notre programme peut distinguer quelle situation est à partir des résultats obtenus(solution unique, non-unique,pas de solution).  \n",
    "Pour ces quatre méthodes,on constater que nous avons constaté que les première et deuxième méthodes obtiennent les résultats souhaités sans avoir à tester de nombreux points de départ(root,minimize), Les troisième et quatrième méthodes nécessitent davantage de données de départ pour le dépistage(gradient a pas fixé,newton),pour la methode gradient a pas fixé, choix du bonne valeur du pas est tres important, si alpha est tres grand, la convergence de cette méthode n'est pas tres correcte, on aura pas un correct résultat, et pour la méthode newton, le choix du point départ est tres important, Si le point de départ que nous choisissons ne convient pas, alors cette fonction peut converger vers l'extremum local.Et on constate que la méthode newton converge plus vite que la méthode de gradient a pas fixé.     \n",
    "Nous avons beaucoup appris grâce à ce projet. Non seulement dans le domaine de la robotique, mais aussi dans un large éventail de domaines d'ingénierie, l'optimisation est un outil nécessaire. Souvent, nous devons trouver la solution optimale, mais pour certaines situations très compliquées, trouver la solution optimale pas si facile  \n",
    "En fait, il existe de nombreux algorithmes d'optimisation, nous devons maîtriser davantage de méthodes d'optimisation et être en mesure de les appliquer dans des situations appropriées，par ailleur, nous avons aussi essyé utilisé la méthode relaxaion pour résoudre la problème demandé, \n",
    "mais malheureusement, nous n'avons pas de le résussir.\n"
   ]
  }
 ],
 "metadata": {
  "kernelspec": {
   "display_name": "Python 3 (ipykernel)",
   "language": "python",
   "name": "python3"
  },
  "language_info": {
   "codemirror_mode": {
    "name": "ipython",
    "version": 3
   },
   "file_extension": ".py",
   "mimetype": "text/x-python",
   "name": "python",
   "nbconvert_exporter": "python",
   "pygments_lexer": "ipython3",
   "version": "3.10.9"
  }
 },
 "nbformat": 4,
 "nbformat_minor": 5
}
